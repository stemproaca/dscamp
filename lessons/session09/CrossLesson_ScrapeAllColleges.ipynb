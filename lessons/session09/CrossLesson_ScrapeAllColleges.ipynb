{
 "cells": [
  {
   "cell_type": "markdown",
   "metadata": {},
   "source": [
    "<span style=\"background-color: lightgreen\"><font size =6>Programming / AI: College Research</font></span>\n"
   ]
  },
  {
   "cell_type": "markdown",
   "metadata": {},
   "source": [
    "**In this excercise, we will summarize all us universities**"
   ]
  },
  {
   "cell_type": "markdown",
   "metadata": {},
   "source": [
    "# Load Wiki"
   ]
  },
  {
   "cell_type": "code",
   "execution_count": 15,
   "metadata": {},
   "outputs": [
    {
     "data": {
      "text/markdown": [
       "**In a technical term, steps are:**"
      ],
      "text/plain": [
       "<IPython.core.display.Markdown object>"
      ]
     },
     "metadata": {},
     "output_type": "display_data"
    },
    {
     "data": {
      "image/png": "[encoded data removed]",
      "text/plain": [
       "<IPython.core.display.Image object>"
      ]
     },
     "metadata": {},
     "output_type": "display_data"
    }
   ],
   "source": [
    "import os\n",
    "from IPython.display import Image, display, Markdown\n",
    "\n",
    "DOCUMENTS_PATH = os.getcwd()\n",
    "\n",
    "display(Markdown(\"**In a technical term, steps are:**\"))\n",
    "display(Image(f\"{DOCUMENTS_PATH}/standard_flow.png\"))"
   ]
  },
  {
   "cell_type": "markdown",
   "metadata": {},
   "source": [
    "## which libraries "
   ]
  },
  {
   "cell_type": "code",
   "execution_count": 3,
   "metadata": {},
   "outputs": [],
   "source": [
    "import os \n",
    "import re \n",
    "import requests \n",
    "import numpy as np\n",
    "import math\n",
    "from bs4 import BeautifulSoup  \n",
    "import pandas as pd \n",
    "from pathlib import Path\n",
    "import nltk \n",
    "from nltk.corpus import wordnet as wn\n",
    "from nltk.tokenize import word_tokenize \n",
    "import matplotlib.pyplot as plt\n",
    "from PIL import Image as img\n",
    "import time\n",
    "\n",
    "import wikipedia\n",
    "import wordcloud"
   ]
  },
  {
   "cell_type": "code",
   "execution_count": 4,
   "metadata": {},
   "outputs": [],
   "source": [
    "DOCUMENT_PATH = os.getcwd()\n",
    "file = f\"{DOCUMENT_PATH}/USColleges.csv\""
   ]
  },
  {
   "cell_type": "code",
   "execution_count": 57,
   "metadata": {},
   "outputs": [
    {
     "data": {
      "text/plain": [
       "200"
      ]
     },
     "execution_count": 57,
     "metadata": {},
     "output_type": "execute_result"
    }
   ],
   "source": []
  },
  {
   "cell_type": "code",
   "execution_count": 154,
   "metadata": {},
   "outputs": [],
   "source": [
    "def scrape_us_college_list(url = None):\n",
    "    if not url:\n",
    "        url = \"https://www.4icu.org/us/a-z/#uni\"\n",
    "    response = requests.get(url)\n",
    "    \n",
    "    if response.status_code != 200:\n",
    "        return \n",
    "\n",
    "    soup = BeautifulSoup(response.content)\n",
    "    \n",
    "    tabs = soup.findAll(\"table\", class_ = \"table table-hover\")\n",
    "\n",
    "    one_row = []\n",
    "    all_rows = []\n",
    "    for tr in tabs[0].findAll(\"tr\")[:]:\n",
    "        cols = tr.findAll(\"th\")\n",
    "        if cols:\n",
    "            for col in cols:\n",
    "                one_row.append(col.get_text())\n",
    "\n",
    "            all_rows.append(one_row)\n",
    "            break\n",
    "\n",
    "    for tr in tabs[0].findAll(\"tr\")[2:]:\n",
    "        cols = tr.findAll(\"td\")\n",
    "        one_row = []\n",
    "        for col in cols:\n",
    "            for href in col.findAll(\"a\"):\n",
    "                url = href[\"href\"] \n",
    "                one_row.append(url) \n",
    "            one_row.append(col.get_text()) \n",
    "        all_rows.append(one_row)\n",
    "\n",
    "    df_college = pd.DataFrame(all_rows[1:], columns =  [\"Rank\", \"url\", \"College\", \"Town\"])\n",
    "    #df_college[df_college[\"College\"].str.contains(\"Massachusetts\")]\n",
    "    df_college.to_csv(file, index=False)\n",
    "    \n",
    "    return file\n"
   ]
  },
  {
   "cell_type": "code",
   "execution_count": 6,
   "metadata": {},
   "outputs": [
    {
     "data": {
      "text/html": [
       "<div>\n",
       "<style scoped>\n",
       "    .dataframe tbody tr th:only-of-type {\n",
       "        vertical-align: middle;\n",
       "    }\n",
       "\n",
       "    .dataframe tbody tr th {\n",
       "        vertical-align: top;\n",
       "    }\n",
       "\n",
       "    .dataframe thead th {\n",
       "        text-align: right;\n",
       "    }\n",
       "</style>\n",
       "<table border=\"1\" class=\"dataframe\">\n",
       "  <thead>\n",
       "    <tr style=\"text-align: right;\">\n",
       "      <th></th>\n",
       "      <th>Rank</th>\n",
       "      <th>url</th>\n",
       "      <th>College</th>\n",
       "      <th>Town</th>\n",
       "    </tr>\n",
       "  </thead>\n",
       "  <tbody>\n",
       "    <tr>\n",
       "      <th>1762</th>\n",
       "      <td>1286</td>\n",
       "      <td>/reviews/6068.htm</td>\n",
       "      <td>York College, City University of New York</td>\n",
       "      <td>Jamaica</td>\n",
       "    </tr>\n",
       "    <tr>\n",
       "      <th>1763</th>\n",
       "      <td>1552</td>\n",
       "      <td>/reviews/16954.htm</td>\n",
       "      <td>Young Harris College</td>\n",
       "      <td>Young Harris</td>\n",
       "    </tr>\n",
       "    <tr>\n",
       "      <th>1764</th>\n",
       "      <td>486</td>\n",
       "      <td>/reviews/6354.htm</td>\n",
       "      <td>Youngstown State University</td>\n",
       "      <td>Youngstown</td>\n",
       "    </tr>\n",
       "    <tr>\n",
       "      <th>1765</th>\n",
       "      <td>Legend: Un Unranked</td>\n",
       "      <td>/about/add.htm</td>\n",
       "      <td>Add University</td>\n",
       "      <td>NaN</td>\n",
       "    </tr>\n",
       "  </tbody>\n",
       "</table>\n",
       "</div>"
      ],
      "text/plain": [
       "                     Rank                 url  \\\n",
       "1762                 1286   /reviews/6068.htm   \n",
       "1763                 1552  /reviews/16954.htm   \n",
       "1764                  486   /reviews/6354.htm   \n",
       "1765  Legend: Un Unranked      /about/add.htm   \n",
       "\n",
       "                                        College          Town  \n",
       "1762  York College, City University of New York       Jamaica  \n",
       "1763                       Young Harris College  Young Harris  \n",
       "1764                Youngstown State University    Youngstown  \n",
       "1765                             Add University           NaN  "
      ]
     },
     "execution_count": 6,
     "metadata": {},
     "output_type": "execute_result"
    }
   ],
   "source": [
    "file = f\"{DOCUMENT_PATH}/USColleges.csv\"\n",
    "df_college = pd.read_csv(file)\n",
    "df_college.tail(4)"
   ]
  },
  {
   "cell_type": "code",
   "execution_count": 192,
   "metadata": {},
   "outputs": [],
   "source": [
    "def get_summaries(file = None, save_to_file = None ):\n",
    "    if not file:\n",
    "        file = f\"{DOCUMENT_PATH}/USColleges.csv\"\n",
    "    \n",
    "    if not save_to_file:\n",
    "        save_to_file = f\"{DOCUMENT_PATH}/USCollegesWithSummary.csv\"\n",
    "        \n",
    "    df_college = pd.read_csv(file)\n",
    "    i = 1\n",
    "    lines = []\n",
    "    for col in df_college.itertuples():\n",
    "        try: \n",
    "            \n",
    "            line = list(col) \n",
    "            rank, school_url, college, town   = line[1], line[2], line[3], line[4]\n",
    "\n",
    "            url = \"https://www.4icu.org\" + school_url\n",
    "       \n",
    "            sub_response = requests.get(url)\n",
    "            if sub_response.status_code != 200: \n",
    "                continue\n",
    "      \n",
    "            sub_ = BeautifulSoup(sub_response.content)\n",
    "            wiki = sub_.findAll(\"a\") \n",
    "            web_url = \"\" \n",
    "            wik_url = \"\"\n",
    " \n",
    "            for wik in wiki:  \n",
    "                if re.search(\"https://en.wikipedia.org\", wik[\"href\"]):\n",
    "                    if wik_url == \"\":\n",
    "                        wik_url = wik[\"href\"]\n",
    "                if wik.has_attr('itemprop'): \n",
    "                    if web_url == \"\":\n",
    "                        if wik[\"href\"][-4:] == \".edu\":\n",
    "                            web_url = wik[\"href\"]\n",
    "                            #print(wik[\"href\"][-4:], wik[\"href\"])\n",
    "\n",
    "\n",
    "                #if re.search(\"https://en.wikipedia.org\", wik[\"rel\"]):\n",
    "                #    web_url = wik[\"href\"]\n",
    "                #    print(web_url)\n",
    "            line.append(wik_url)\n",
    "            line.append(web_url)\n",
    "            ##print(len(sub_.findAll(\"table\", class_ = \"borderless\")))\n",
    "            #divs = sub_.findAll(\"div\", class_ = \"col-md-6\")\n",
    "            #for div in divs:\n",
    "            #    for tab in sub_.findAll(\"table\", class_ = \"borderless\"):\n",
    "            #        print(tab)\n",
    "\n",
    "            textp = sub_.findAll(\"p\", class_ = \"text-justify\")\n",
    "            line.append(textp[0].get_text()) \n",
    "\n",
    "            lines.append(line) \n",
    "            if i > 10:\n",
    "                break\n",
    "        except:\n",
    "            i += 1\n",
    "            pass  \n",
    "        \n",
    "    df = pd.DataFrame(lines, columns = [\"Seq\", \"Rank\", \"School_url\", \"College\", \"Town\", \"Wiki\", \"Web\", \"Summary\"])\n",
    " \n",
    "    df.to_csv(save_to_file, index=False)\n",
    "    \n",
    "    return  lines, df, save_to_file"
   ]
  },
  {
   "cell_type": "code",
   "execution_count": 193,
   "metadata": {},
   "outputs": [],
   "source": [
    "lines, df, save_to_file = get_summaries()"
   ]
  },
  {
   "cell_type": "code",
   "execution_count": null,
   "metadata": {},
   "outputs": [],
   "source": [
    " "
   ]
  },
  {
   "cell_type": "code",
   "execution_count": null,
   "metadata": {},
   "outputs": [],
   "source": [
    " "
   ]
  },
  {
   "cell_type": "markdown",
   "metadata": {},
   "source": [
    "# Py Learning from Above"
   ]
  },
  {
   "cell_type": "markdown",
   "metadata": {},
   "source": [
    "## List: advanced \n",
    "## Exception (optional)\n",
    "## access a list"
   ]
  },
  {
   "cell_type": "markdown",
   "metadata": {},
   "source": [
    "# Colab Review"
   ]
  },
  {
   "cell_type": "code",
   "execution_count": null,
   "metadata": {},
   "outputs": [],
   "source": []
  }
 ],
 "metadata": {
  "kernelspec": {
   "display_name": "p39tf",
   "language": "python",
   "name": "p39tf"
  },
  "language_info": {
   "codemirror_mode": {
    "name": "ipython",
    "version": 3
   },
   "file_extension": ".py",
   "mimetype": "text/x-python",
   "name": "python",
   "nbconvert_exporter": "python",
   "pygments_lexer": "ipython3",
   "version": "3.7.10"
  },
  "toc": {
   "base_numbering": 1,
   "nav_menu": {},
   "number_sections": true,
   "sideBar": true,
   "skip_h1_title": false,
   "title_cell": "Table of Contents",
   "title_sidebar": "Contents",
   "toc_cell": false,
   "toc_position": {},
   "toc_section_display": true,
   "toc_window_display": true
  }
 },
 "nbformat": 4,
 "nbformat_minor": 4
}
