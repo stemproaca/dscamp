{
 "cells": [
  {
   "cell_type": "markdown",
   "metadata": {},
   "source": [
    "# Lib"
   ]
  },
  {
   "cell_type": "code",
   "execution_count": 1,
   "metadata": {},
   "outputs": [],
   "source": [
    "import os \n",
    "import re \n",
    "import requests \n",
    "from bs4 import BeautifulSoup  \n",
    "import pandas as pd \n",
    "from pathlib import Path\n",
    "import nltk \n",
    "from nltk.corpus import wordnet as wn\n",
    "from nltk.tokenize import word_tokenize\n",
    "from fake_useragent import UserAgent\n",
    "# nltk.download('popular')\n",
    "# nltk.download('wordnet')\n",
    "# https://www.nltk.org/howto/wordnet.html\n",
    "from wordcloud import WordCloud, STOPWORDS, ImageColorGenerator\n",
    "from PIL import Image\n",
    "import matplotlib.pyplot as plt\n",
    "import random\n",
    "import time"
   ]
  },
  {
   "cell_type": "code",
   "execution_count": null,
   "metadata": {},
   "outputs": [],
   "source": [
    "rundll32 sysdm.cpl,EditEnvironmentVariables"
   ]
  },
  {
   "cell_type": "code",
   "execution_count": null,
   "metadata": {},
   "outputs": [],
   "source": [
    "https://stackoverflow.com/questions/41535881/how-do-i-upgrade-to-python-3-6-with-conda"
   ]
  },
  {
   "cell_type": "code",
   "execution_count": null,
   "metadata": {},
   "outputs": [],
   "source": [
    "C:\\ProgramData\\Anaconda3\n",
    "C:\\ProgramData\\Anaconda3\\Scripts\n",
    "C:\\ProgramData\\Anaconda3\\Library\\mingw-w64\\bin\n",
    "C:\\ProgramData\\Anaconda3\\Library\\bin\n",
    "C:\\ProgramData\\Anaconda3\\Library\\usr\\bin\n",
    "C:\\ProgramData\\Anaconda3\\Lib\\site-packages"
   ]
  },
  {
   "cell_type": "code",
   "execution_count": null,
   "metadata": {},
   "outputs": [],
   "source": [
    "conda env remove -n envname"
   ]
  },
  {
   "cell_type": "code",
   "execution_count": null,
   "metadata": {},
   "outputs": [],
   "source": []
  },
  {
   "cell_type": "code",
   "execution_count": null,
   "metadata": {},
   "outputs": [],
   "source": [
    "#no need to a specific env\n",
    "jupyter kernelspec list\n",
    "jupyter kernelspec uninstall unwanted-kernel\n",
    "\n",
    "python -m ipykernel install --user --name myenv --display-name \"Python (myenv)\""
   ]
  },
  {
   "cell_type": "code",
   "execution_count": null,
   "metadata": {},
   "outputs": [],
   "source": [
    "import: if same folder:\n",
    "    from user import User\n",
    "from dir import Dir"
   ]
  },
  {
   "cell_type": "code",
   "execution_count": null,
   "metadata": {},
   "outputs": [],
   "source": [
    "path issue: \n",
    "from pathlib import Path\n",
    "import sys\n",
    "path = str(Path(Path(__file__).parent.absolute()).parent.absolute())\n",
    "sys.path.insert(0, path)\n"
   ]
  },
  {
   "cell_type": "code",
   "execution_count": null,
   "metadata": {},
   "outputs": [],
   "source": []
  },
  {
   "cell_type": "markdown",
   "metadata": {},
   "source": [
    "# NLP: Wordcloud, sentiments\n",
    "* https://towardsdatascience.com/generate-meaningful-word-clouds-in-python-5b85f5668eeb"
   ]
  },
  {
   "cell_type": "code",
   "execution_count": 12,
   "metadata": {},
   "outputs": [],
   "source": [
    "headers = {'User-Agent': 'Mozilla/5.0 (Macintosh; Intel Mac OS X 10_10_1) AppleWebKit/537.36 (KHTML, like Gecko) Chrome/39.0.2171.95 Safari/537.36'}\n",
    "ua=UserAgent()\n",
    "hdr = {'User-Agent': ua.random,\n",
    "      'Accept': 'text/html,application/xhtml+xml,application/xml;q=0.9,*/*;q=0.8',\n",
    "      'Accept-Charset': 'ISO-8859-1,utf-8;q=0.7,*;q=0.3',\n",
    "      'Accept-Encoding': 'none',\n",
    "      'Accept-Language': 'en-US,en;q=0.8',\n",
    "      'Connection': 'keep-alive'}\n",
    "url = \"http://www.amazon.com/dp/\" + 'B004CNH98C'\n",
    "response = requests.get(url, headers=hdr)"
   ]
  },
  {
   "cell_type": "code",
   "execution_count": 18,
   "metadata": {},
   "outputs": [],
   "source": [
    "all_urls = []\n",
    "\n",
    "school = \"https://en.wikipedia.org/wiki/Carnegie_Mellon_University\"\n",
    "school = \"https://en.wikipedia.org/wiki/University_of_California,_Berkeley\"\n",
    "\n",
    "respose = requests.get(school, headers = hdr)\n",
    "\n",
    "soup = BeautifulSoup(respose.content)\n",
    "for link in soup.findAll('a', attrs={'href': re.compile(\"^http://\")}):\n",
    "    all_urls.append(link.get('href'))"
   ]
  },
  {
   "cell_type": "markdown",
   "metadata": {},
   "source": [
    "## menus"
   ]
  },
  {
   "cell_type": "code",
   "execution_count": null,
   "metadata": {},
   "outputs": [],
   "source": [
    " "
   ]
  },
  {
   "cell_type": "code",
   "execution_count": 19,
   "metadata": {},
   "outputs": [
    {
     "name": "stdout",
     "output_type": "stream",
     "text": [
      "History\n",
      "Founding\n",
      "20th century\n",
      "21st century\n",
      "Organization and administration\n",
      "Name\n",
      "Governance\n",
      "Funding\n",
      "Academics\n",
      "Undergraduate programs\n",
      "Graduate and professional programs\n",
      "Faculty and research\n",
      "Library system\n",
      "Rankings\n",
      "Admissions and enrollment\n",
      "Discoveries and innovation\n",
      "Natural sciences\n",
      "Computer and applied sciences\n",
      "Companies and entrepreneurship\n",
      "Campus\n",
      "Architecture\n",
      "Natural features\n",
      "Student life and traditions\n",
      "Student housing\n",
      "University housing\n",
      "Cooperative housing\n",
      "Fraternities and sororities\n",
      "Student-run organizations\n",
      "Associated Students of the University of California (ASUC)\n",
      "Media and publications\n",
      "Student groups\n",
      "Engineering Student Teams\n",
      "Athletics\n",
      "Notable alumni, faculty, and staff\n",
      "Faculty and staff\n",
      "Alumni\n",
      "Controversies\n",
      "See also\n",
      "Notes\n",
      "References\n",
      "Further reading\n",
      "External links\n"
     ]
    }
   ],
   "source": [
    "for section in soup.findAll(\"span\", attrs ={\"class\": \"mw-headline\"}):\n",
    "    print(section.get_text())\n",
    " \n",
    "          "
   ]
  },
  {
   "cell_type": "code",
   "execution_count": null,
   "metadata": {},
   "outputs": [],
   "source": []
  },
  {
   "cell_type": "code",
   "execution_count": null,
   "metadata": {},
   "outputs": [],
   "source": []
  },
  {
   "cell_type": "code",
   "execution_count": null,
   "metadata": {},
   "outputs": [],
   "source": []
  },
  {
   "cell_type": "code",
   "execution_count": 26,
   "metadata": {},
   "outputs": [],
   "source": [
    "text = soup.get_text()"
   ]
  },
  {
   "cell_type": "code",
   "execution_count": 27,
   "metadata": {},
   "outputs": [
    {
     "data": {
      "image/png": "[encoded data removed]",
      "text/plain": [
       "<Figure size 432x288 with 1 Axes>"
      ]
     },
     "metadata": {
      "needs_background": "light"
     },
     "output_type": "display_data"
    }
   ],
   "source": [
    "wordcloud = WordCloud(stopwords = STOPWORDS,\n",
    "                      collocations=True).generate(text)\n",
    "\n",
    "#plot the wordcloud object\n",
    "plt.imshow(wordcloud, interpolation='bilInear')\n",
    "plt.axis('off')\n",
    "plt.show()"
   ]
  },
  {
   "cell_type": "code",
   "execution_count": 30,
   "metadata": {},
   "outputs": [
    {
     "name": "stdout",
     "output_type": "stream",
     "text": [
      "[('Carnegie Mellon', 229), ('original', 131), ('Archived', 105), ('College', 82), ('Mellon University', 82)]\n",
      "[('Carnegie Mellon', 1.0), ('original', 0.5720524017467249), ('Archived', 0.4585152838427948), ('College', 0.35807860262008734), ('Mellon University', 0.35807860262008734)]\n"
     ]
    }
   ],
   "source": [
    "text_dictionary = wordcloud.process_text(text)\n",
    "# sort the dictionary\n",
    "word_freq={k: v for k, v in sorted(text_dictionary.items(),reverse=True, key=lambda item: item[1])}\n",
    "\n",
    "#use words_ to print relative word frequencies\n",
    "rel_freq=wordcloud.words_\n",
    "\n",
    "#print results\n",
    "print(list(word_freq.items())[:5])\n",
    "print(list(rel_freq.items())[:5]) "
   ]
  },
  {
   "cell_type": "code",
   "execution_count": null,
   "metadata": {},
   "outputs": [],
   "source": [
    "# create a pandas Series of the top 4000 most frequent words\n",
    "text=bow.loc['biden'].sort_values(ascending=False)[:4000]\n",
    "\n",
    "# create a dictionary Note: you could pass the pandas Series directoy into the wordcloud object\n",
    "text2_dict=bow.loc['biden'].sort_values(ascending=False).to_dict()\n",
    "\n",
    "# create the WordCloud object\n",
    "wordcloud = WordCloud(min_word_length =3,\n",
    "                      background_color='white')\n",
    "\n",
    "# generate the word cloud\n",
    "wordcloud.generate_from_frequencies(text2_dict)\n",
    "\n",
    "#plot\n",
    "plt.imshow(wordcloud, interpolation='bilinear')\n",
    "plt.axis('off')\n",
    "plt.show()"
   ]
  },
  {
   "cell_type": "code",
   "execution_count": null,
   "metadata": {},
   "outputs": [],
   "source": []
  },
  {
   "cell_type": "markdown",
   "metadata": {},
   "source": [
    "# Sentiment\n",
    "* https://neptune.ai/blog/sentiment-analysis-python-textblob-vs-vader-vs-flair"
   ]
  },
  {
   "cell_type": "code",
   "execution_count": 33,
   "metadata": {},
   "outputs": [
    {
     "name": "stdout",
     "output_type": "stream",
     "text": [
      "Sentiment(polarity=0.1318348279228097, subjectivity=0.3776367151554783)\n"
     ]
    }
   ],
   "source": [
    "from textblob import TextBlob\n",
    "\n",
    "testimonial = TextBlob(text)\n",
    "print(testimonial.sentiment)"
   ]
  },
  {
   "cell_type": "code",
   "execution_count": null,
   "metadata": {},
   "outputs": [],
   "source": [
    "!pip install vaderSentiment"
   ]
  },
  {
   "cell_type": "code",
   "execution_count": 5,
   "metadata": {},
   "outputs": [
    {
     "name": "stdout",
     "output_type": "stream",
     "text": [
      "The food was great!---------------------------------------------- {'neg': 0.0, 'neu': 0.406, 'pos': 0.594, 'compound': 0.6588}\n"
     ]
    }
   ],
   "source": [
    "from vaderSentiment.vaderSentiment import SentimentIntensityAnalyzer\n",
    "\n",
    "\n",
    "analyzer = SentimentIntensityAnalyzer()\n",
    "sentence = \"The food was great!\" \n",
    "vs = analyzer.polarity_scores(sentence)\n",
    "print(\"{:-<65} {}\".format(sentence, str(vs)))"
   ]
  },
  {
   "cell_type": "code",
   "execution_count": 7,
   "metadata": {},
   "outputs": [
    {
     "ename": "ModuleNotFoundError",
     "evalue": "No module named 'flair'",
     "output_type": "error",
     "traceback": [
      "\u001b[1;31m---------------------------------------------------------------------------\u001b[0m",
      "\u001b[1;31mModuleNotFoundError\u001b[0m                       Traceback (most recent call last)",
      "\u001b[1;32m~\\AppData\\Local\\Temp/ipykernel_18928/111519416.py\u001b[0m in \u001b[0;36m<module>\u001b[1;34m\u001b[0m\n\u001b[1;32m----> 1\u001b[1;33m \u001b[1;32mfrom\u001b[0m \u001b[0mflair\u001b[0m\u001b[1;33m.\u001b[0m\u001b[0mmodels\u001b[0m \u001b[1;32mimport\u001b[0m \u001b[0mTextClassifier\u001b[0m\u001b[1;33m\u001b[0m\u001b[1;33m\u001b[0m\u001b[0m\n\u001b[0m\u001b[0;32m      2\u001b[0m \u001b[1;32mfrom\u001b[0m \u001b[0mflair\u001b[0m\u001b[1;33m.\u001b[0m\u001b[0mdata\u001b[0m \u001b[1;32mimport\u001b[0m \u001b[0mSentence\u001b[0m\u001b[1;33m\u001b[0m\u001b[1;33m\u001b[0m\u001b[0m\n\u001b[0;32m      3\u001b[0m \u001b[1;33m\u001b[0m\u001b[0m\n\u001b[0;32m      4\u001b[0m \u001b[0mclassifier\u001b[0m \u001b[1;33m=\u001b[0m \u001b[0mTextClassifier\u001b[0m\u001b[1;33m.\u001b[0m\u001b[0mload\u001b[0m\u001b[1;33m(\u001b[0m\u001b[1;34m'en-sentiment'\u001b[0m\u001b[1;33m)\u001b[0m\u001b[1;33m\u001b[0m\u001b[1;33m\u001b[0m\u001b[0m\n\u001b[0;32m      5\u001b[0m \u001b[0msentence\u001b[0m \u001b[1;33m=\u001b[0m \u001b[0mSentence\u001b[0m\u001b[1;33m(\u001b[0m\u001b[1;34m'The food was great!'\u001b[0m\u001b[1;33m)\u001b[0m\u001b[1;33m\u001b[0m\u001b[1;33m\u001b[0m\u001b[0m\n",
      "\u001b[1;31mModuleNotFoundError\u001b[0m: No module named 'flair'"
     ]
    }
   ],
   "source": [
    "from flair.models import TextClassifier\n",
    "from flair.data import Sentence\n",
    "\n",
    "classifier = TextClassifier.load('en-sentiment')\n",
    "sentence = Sentence('The food was great!')\n",
    "classifier.predict(sentence)\n",
    "\n",
    "# print sentence with predicted labels\n",
    "print('Sentence above is: ', sentence.labels)"
   ]
  },
  {
   "cell_type": "code",
   "execution_count": null,
   "metadata": {},
   "outputs": [],
   "source": [
    "!pip install flair"
   ]
  },
  {
   "cell_type": "markdown",
   "metadata": {},
   "source": [
    "# wiki Aermerican universities"
   ]
  },
  {
   "cell_type": "code",
   "execution_count": 85,
   "metadata": {},
   "outputs": [],
   "source": [
    "url = \"https://en.wikipedia.org/wiki/Lists_of_American_universities_and_colleges\""
   ]
  },
  {
   "cell_type": "markdown",
   "metadata": {},
   "source": [
    "### Lists"
   ]
  },
  {
   "cell_type": "code",
   "execution_count": 98,
   "metadata": {},
   "outputs": [],
   "source": [
    "all_urls = []\n",
    "## url = \"http://www.amazon.com/dp/\" + 'B004CNH98C'\n",
    "local_url = r\"C:\\SP\\Teaching\\DSCamp\\University_List_EntryPage.html\"\n",
    "with open(local_url, \"r\", encoding = \"utf8\") as fp:\n",
    "    soup = BeautifulSoup(fp, 'html.parser')\n",
    "\n",
    "for link in soup.findAll('a'):\n",
    "    sub_url = link.get(\"href\") #link[\"href\"]\n",
    "    if sub_url:\n",
    "        all_urls.append(sub_url)"
   ]
  },
  {
   "cell_type": "code",
   "execution_count": null,
   "metadata": {},
   "outputs": [],
   "source": [
    "def "
   ]
  },
  {
   "cell_type": "markdown",
   "metadata": {},
   "source": [
    "### From Web"
   ]
  },
  {
   "cell_type": "code",
   "execution_count": null,
   "metadata": {},
   "outputs": [],
   "source": [
    "state_ulr = \"https://en.wikipedia.org/wiki/List_of_colleges_and_universities_in_Connecticut\""
   ]
  },
  {
   "cell_type": "code",
   "execution_count": null,
   "metadata": {},
   "outputs": [],
   "source": [
    "soup = None\n",
    "all_urls = []\n",
    "headers = {'User-Agent': 'Mozilla/5.0 (Macintosh; Intel Mac OS X 10_10_1) AppleWebKit/537.36 (KHTML, like Gecko) Chrome/39.0.2171.95 Safari/537.36'}\n",
    "ua=UserAgent()\n",
    "hdr = {'User-Agent': ua.random,\n",
    "      'Accept': 'text/html,application/xhtml+xml,application/xml;q=0.9,*/*;q=0.8',\n",
    "      'Accept-Charset': 'ISO-8859-1,utf-8;q=0.7,*;q=0.3',\n",
    "      'Accept-Encoding': 'none',\n",
    "      'Accept-Language': 'en-US,en;q=0.8',\n",
    "      'Connection': 'keep-alive'}\n",
    "\n",
    "response = requests.get(state_ulr, headers=hdr)\n",
    "soup = BeautifulSoup(respose.content) \n",
    "\n",
    "all_urls = [] \n",
    "#for link in soup.findAll('a', attrs={'href': re.compile(\"^http://\")}):\n",
    "#for link in soup.findAll('a', attrs={'href': re.compile(\".+\")}):\n",
    "#for link in soup.findAll('a', attrs={'href': \"\"}):\n",
    "for link in soup.findAll('a'):\n",
    "    \n",
    "    print(link)\n",
    "    continue\n",
    "    \n",
    "    sub_url = link.get(\"href\") #link[\"href\"]\n",
    "    if sub_url:\n",
    "        all_urls.append(sub_url)"
   ]
  },
  {
   "cell_type": "code",
   "execution_count": 153,
   "metadata": {},
   "outputs": [
    {
     "data": {
      "text/html": [
       "<div>\n",
       "<style scoped>\n",
       "    .dataframe tbody tr th:only-of-type {\n",
       "        vertical-align: middle;\n",
       "    }\n",
       "\n",
       "    .dataframe tbody tr th {\n",
       "        vertical-align: top;\n",
       "    }\n",
       "\n",
       "    .dataframe thead th {\n",
       "        text-align: right;\n",
       "    }\n",
       "</style>\n",
       "<table border=\"1\" class=\"dataframe\">\n",
       "  <thead>\n",
       "    <tr style=\"text-align: right;\">\n",
       "      <th></th>\n",
       "      <th>url</th>\n",
       "      <th>title</th>\n",
       "      <th>state</th>\n",
       "    </tr>\n",
       "  </thead>\n",
       "  <tbody>\n",
       "    <tr>\n",
       "      <th>0</th>\n",
       "      <td>/wiki/College</td>\n",
       "      <td>colleges</td>\n",
       "      <td>Connecticut</td>\n",
       "    </tr>\n",
       "    <tr>\n",
       "      <th>1</th>\n",
       "      <td>/wiki/University</td>\n",
       "      <td>universities</td>\n",
       "      <td>Connecticut</td>\n",
       "    </tr>\n",
       "    <tr>\n",
       "      <th>2</th>\n",
       "      <td>/wiki/U.S._state</td>\n",
       "      <td>U.S. state</td>\n",
       "      <td>Connecticut</td>\n",
       "    </tr>\n",
       "    <tr>\n",
       "      <th>3</th>\n",
       "      <td>/wiki/Connecticut</td>\n",
       "      <td>Connecticut</td>\n",
       "      <td>Connecticut</td>\n",
       "    </tr>\n",
       "    <tr>\n",
       "      <th>4</th>\n",
       "      <td>/wiki/Associates_degree</td>\n",
       "      <td>associates</td>\n",
       "      <td>Connecticut</td>\n",
       "    </tr>\n",
       "    <tr>\n",
       "      <th>...</th>\n",
       "      <td>...</td>\n",
       "      <td>...</td>\n",
       "      <td>...</td>\n",
       "    </tr>\n",
       "    <tr>\n",
       "      <th>386</th>\n",
       "      <td>/wiki/Wikipedia:About</td>\n",
       "      <td>About Wikipedia</td>\n",
       "      <td>Connecticut</td>\n",
       "    </tr>\n",
       "    <tr>\n",
       "      <th>387</th>\n",
       "      <td>/wiki/Wikipedia:General_disclaimer</td>\n",
       "      <td>Disclaimers</td>\n",
       "      <td>Connecticut</td>\n",
       "    </tr>\n",
       "    <tr>\n",
       "      <th>388</th>\n",
       "      <td>//en.wikipedia.org/wiki/Wikipedia:Contact_us</td>\n",
       "      <td>Contact Wikipedia</td>\n",
       "      <td>Connecticut</td>\n",
       "    </tr>\n",
       "    <tr>\n",
       "      <th>389</th>\n",
       "      <td>https://www.mediawiki.org/wiki/Special:MyLangu...</td>\n",
       "      <td>Developers</td>\n",
       "      <td>Connecticut</td>\n",
       "    </tr>\n",
       "    <tr>\n",
       "      <th>390</th>\n",
       "      <td>https://foundation.wikimedia.org/wiki/Cookie_s...</td>\n",
       "      <td>Cookie statement</td>\n",
       "      <td>Connecticut</td>\n",
       "    </tr>\n",
       "  </tbody>\n",
       "</table>\n",
       "<p>391 rows × 3 columns</p>\n",
       "</div>"
      ],
      "text/plain": [
       "                                                   url              title  \\\n",
       "0                                        /wiki/College           colleges   \n",
       "1                                     /wiki/University       universities   \n",
       "2                                     /wiki/U.S._state         U.S. state   \n",
       "3                                    /wiki/Connecticut        Connecticut   \n",
       "4                              /wiki/Associates_degree         associates   \n",
       "..                                                 ...                ...   \n",
       "386                              /wiki/Wikipedia:About    About Wikipedia   \n",
       "387                 /wiki/Wikipedia:General_disclaimer        Disclaimers   \n",
       "388       //en.wikipedia.org/wiki/Wikipedia:Contact_us  Contact Wikipedia   \n",
       "389  https://www.mediawiki.org/wiki/Special:MyLangu...         Developers   \n",
       "390  https://foundation.wikimedia.org/wiki/Cookie_s...   Cookie statement   \n",
       "\n",
       "           state  \n",
       "0    Connecticut  \n",
       "1    Connecticut  \n",
       "2    Connecticut  \n",
       "3    Connecticut  \n",
       "4    Connecticut  \n",
       "..           ...  \n",
       "386  Connecticut  \n",
       "387  Connecticut  \n",
       "388  Connecticut  \n",
       "389  Connecticut  \n",
       "390  Connecticut  \n",
       "\n",
       "[391 rows x 3 columns]"
      ]
     },
     "execution_count": 153,
     "metadata": {},
     "output_type": "execute_result"
    }
   ],
   "source": [
    " \n",
    " "
   ]
  },
  {
   "cell_type": "code",
   "execution_count": 162,
   "metadata": {},
   "outputs": [],
   "source": [
    "def parse_us_colleges(url = \"https://en.wikipedia.org/wiki/Lists_of_American_universities_and_colleges\"): \n",
    "    state_ulr = url  \n",
    "    headers = {'User-Agent': 'Mozilla/5.0 (Macintosh; Intel Mac OS X 10_10_1) AppleWebKit/537.36 (KHTML, like Gecko) Chrome/39.0.2171.95 Safari/537.36'}\n",
    "    ua=UserAgent()\n",
    "    hdr = {'User-Agent': ua.random,\n",
    "          'Accept': 'text/html,application/xhtml+xml,application/xml;q=0.9,*/*;q=0.8',\n",
    "          'Accept-Charset': 'ISO-8859-1,utf-8;q=0.7,*;q=0.3',\n",
    "          'Accept-Encoding': 'none',\n",
    "          'Accept-Language': 'en-US,en;q=0.8',\n",
    "          'Connection': 'keep-alive'}\n",
    "    response = requests.get(state_ulr, headers=hdr)\n",
    "\n",
    "    results = []\n",
    "    soup = BeautifulSoup(response.content, 'html.parser')\n",
    "    allLinks = soup.find_all(\"a\")\n",
    "    for link in allLinks:   \n",
    "        if not link:\n",
    "            continue \n",
    "        if not link.has_attr(\"href\"): \n",
    "            continue\n",
    "        if link['href'].find(\"/wiki/\") == -1: \n",
    "            continue\n",
    "        results.append((link[\"href\"], link.get_text()))\n",
    "    df_state = pd.DataFrame(results, columns = [\"url\", \"title\"])\n",
    "    df_state[\"coutry\"] = \"USA\"\n",
    "    \n",
    "    return df_state"
   ]
  },
  {
   "cell_type": "code",
   "execution_count": 163,
   "metadata": {},
   "outputs": [],
   "source": [
    "def parse_one_state(state_url, the_state = None):  \n",
    "     \n",
    "    #state_ulr = \"https://en.wikipedia.org/wiki/List_of_colleges_and_universities_in_Connecticut\"\n",
    "      \n",
    "    if not the_state:\n",
    "        the_state = state_ulr.split(\"_\")[-1] \n",
    "    headers = {'User-Agent': 'Mozilla/5.0 (Macintosh; Intel Mac OS X 10_10_1) AppleWebKit/537.36 (KHTML, like Gecko) Chrome/39.0.2171.95 Safari/537.36'}\n",
    "    ua=UserAgent()\n",
    "    hdr = {'User-Agent': ua.random,\n",
    "          'Accept': 'text/html,application/xhtml+xml,application/xml;q=0.9,*/*;q=0.8',\n",
    "          'Accept-Charset': 'ISO-8859-1,utf-8;q=0.7,*;q=0.3',\n",
    "          'Accept-Encoding': 'none',\n",
    "          'Accept-Language': 'en-US,en;q=0.8',\n",
    "          'Connection': 'keep-alive'}\n",
    "    response = requests.get(state_ulr, headers=hdr)\n",
    "    \n",
    "    results = []\n",
    "    soup = BeautifulSoup(response.content, 'html.parser')\n",
    "    allLinks = soup.find_all(\"a\")\n",
    "    for link in allLinks:   \n",
    "        if not link:\n",
    "            continue \n",
    "        if not link.has_attr(\"href\"): \n",
    "            continue\n",
    "        if link['href'].find(\"/wiki/\") == -1: \n",
    "            continue\n",
    "        results.append((link[\"href\"], link.get_text()))\n",
    "    df_state = pd.DataFrame(results, columns = [\"url\", \"title\"])\n",
    "    df_state[\"state\"] = the_state\n",
    "    \n",
    "    return df_state\n",
    "\n"
   ]
  },
  {
   "cell_type": "code",
   "execution_count": 204,
   "metadata": {},
   "outputs": [],
   "source": [
    "def generatte_wiki_list():\n",
    "    df_country = parse_us_colleges()\n",
    "    #df_country = df_country.style.set_properties(subset=['url'], **{'width-min': '150'})\n",
    "    df_country\n",
    "    df_states = [] \n",
    "    for one_row in df_country.itertuples(): \n",
    "        ii, url, title = one_row[0], one_row[1], one_row[2]\n",
    "        if not re.search(\"List_of\", url):\n",
    "            continue\n",
    "        url = \"https://en.wikipedia.org\" + url \n",
    "        print(url)\n",
    "        df_state_ = parse_one_state(url, the_state = title)\n",
    "        df_state_[\"scrape_url\"] = url\n",
    "        df_states.append(df_state_)\n",
    "        time.sleep(15)\n",
    "        if ii > 3:\n",
    "            break\n",
    "    total = pd.concat(df_states, axis = 0)\n",
    "    total.to_csv(\"US_University_WikiPages_List.csv\", index = False)\n",
    "    return total"
   ]
  },
  {
   "cell_type": "code",
   "execution_count": 205,
   "metadata": {},
   "outputs": [
    {
     "name": "stdout",
     "output_type": "stream",
     "text": [
      "https://en.wikipedia.org/wiki/List_of_regions_of_the_United_States#Census_Bureau-designated_regions_and_divisions\n"
     ]
    }
   ],
   "source": [
    "dds = generatte_wiki_list()"
   ]
  },
  {
   "cell_type": "code",
   "execution_count": null,
   "metadata": {},
   "outputs": [],
   "source": [
    "\n",
    "tt.groupby(\"title\")[\"url\"].nunique().reset_index()"
   ]
  },
  {
   "cell_type": "code",
   "execution_count": null,
   "metadata": {},
   "outputs": [],
   "source": []
  },
  {
   "cell_type": "code",
   "execution_count": 194,
   "metadata": {},
   "outputs": [],
   "source": [
    "df_list = generatte_wiki_list()"
   ]
  },
  {
   "cell_type": "code",
   "execution_count": 190,
   "metadata": {},
   "outputs": [
    {
     "name": "stdout",
     "output_type": "stream",
     "text": [
      "/wiki/Category:Education_in_the_United_States\n",
      "/wiki/Education_in_the_United_States\n",
      "/wiki/Category:Education_in_the_United_States_by_state\n",
      "/wiki/Category:Education_in_insular_areas_of_the_United_States\n",
      "/wiki/Category:Education_in_the_United_States_by_subject\n",
      "/wiki/History_of_education_in_the_United_States\n",
      "/wiki/Educational_accreditation\n",
      "/wiki/Pre-tertiary-education_accreditation\n",
      "/wiki/Higher_education_accreditation_in_the_United_States\n",
      "/wiki/Category:Education_finance_in_the_United_States\n",
      "/wiki/Category:United_States_education_law\n",
      "/wiki/Literacy_in_the_United_States\n",
      "/wiki/Issues_in_higher_education_in_the_United_States\n",
      "/wiki/Higher_education_bubble_in_the_United_States\n",
      "/wiki/Cost_and_financing_issues_facing_higher_education_in_the_United_States\n",
      "/wiki/Credentialism_and_educational_inflation\n",
      "/wiki/Elite_overproduction\n",
      "/wiki/Graduate_unemployment#United_States\n",
      "/wiki/Education_reform##Contemporary_issues_(United_States)\n",
      "/wiki/Charter_schools_in_the_United_States\n",
      "/wiki/Educational_inequality_in_the_United_States\n",
      "/wiki/School_choice\n",
      "/wiki/Early_childhood_education_in_the_United_States\n",
      "/wiki/K%E2%80%9312\n",
      "/wiki/Primary_education_in_the_United_States\n",
      "/wiki/Secondary_education_in_the_United_States\n",
      "/wiki/Higher_education_in_the_United_States\n",
      "/wiki/Category:Educational_organizations_based_in_the_United_States\n",
      "/wiki/File:Diploma_icon.png\n",
      "/wiki/Portal:Education\n",
      "/wiki/Portal:United_States\n",
      "/wiki/Template:Education_in_the_U.S.\n",
      "/wiki/Template_talk:Education_in_the_U.S.\n",
      "/wiki/Higher_education_in_the_United_States\n",
      "/wiki/College\n",
      "/wiki/University\n",
      "/wiki/U.S._state\n",
      "/wiki/List_of_regions_of_the_United_States#Census_Bureau-designated_regions_and_divisions\n",
      "/wiki/Insular_area\n",
      "/wiki/File:Map_of_USA_highlighting_Northeast.png\n",
      "/wiki/File:Map_of_USA_highlighting_Northeast.png\n",
      "/wiki/Northeastern_United_States\n",
      "/wiki/List_of_colleges_and_universities_in_Connecticut\n",
      "/wiki/List_of_colleges_and_universities_in_Maine\n",
      "/wiki/List_of_colleges_and_universities_in_Massachusetts\n",
      "/wiki/List_of_colleges_and_universities_in_New_Hampshire\n",
      "/wiki/List_of_colleges_and_universities_in_New_Jersey\n",
      "/wiki/List_of_colleges_and_universities_in_New_York_(state)\n",
      "/wiki/List_of_colleges_and_universities_in_Pennsylvania\n",
      "/wiki/List_of_colleges_and_universities_in_Rhode_Island\n",
      "/wiki/List_of_colleges_and_universities_in_Vermont\n",
      "/wiki/File:Map_of_USA_highlighting_Midwest.png\n",
      "/wiki/File:Map_of_USA_highlighting_Midwest.png\n",
      "/wiki/Midwestern_United_States\n",
      "/wiki/List_of_colleges_and_universities_in_Illinois\n",
      "/wiki/List_of_colleges_and_universities_in_Indiana\n",
      "/wiki/List_of_colleges_and_universities_in_Iowa\n",
      "/wiki/List_of_colleges_and_universities_in_Kansas\n",
      "/wiki/List_of_colleges_and_universities_in_Michigan\n",
      "/wiki/List_of_colleges_and_universities_in_Minnesota\n",
      "/wiki/List_of_colleges_and_universities_in_Missouri\n",
      "/wiki/List_of_colleges_and_universities_in_Nebraska\n",
      "/wiki/List_of_colleges_and_universities_in_North_Dakota\n",
      "/wiki/List_of_colleges_and_universities_in_Ohio\n",
      "/wiki/List_of_colleges_and_universities_in_South_Dakota\n",
      "/wiki/List_of_colleges_and_universities_in_Wisconsin\n",
      "/wiki/File:Map_of_USA_highlighting_South.png\n",
      "/wiki/File:Map_of_USA_highlighting_South.png\n",
      "/wiki/Southern_United_States\n",
      "/wiki/List_of_colleges_and_universities_in_Alabama\n",
      "/wiki/List_of_colleges_and_universities_in_Arkansas\n",
      "/wiki/List_of_colleges_and_universities_in_Delaware\n",
      "/wiki/List_of_colleges_and_universities_in_Florida\n",
      "/wiki/List_of_colleges_and_universities_in_Georgia_(U.S._state)\n",
      "/wiki/List_of_colleges_and_universities_in_Kentucky\n",
      "/wiki/List_of_colleges_and_universities_in_Louisiana\n",
      "/wiki/List_of_colleges_and_universities_in_Maryland\n",
      "/wiki/List_of_colleges_and_universities_in_Mississippi\n",
      "/wiki/List_of_colleges_and_universities_in_North_Carolina\n",
      "/wiki/List_of_colleges_and_universities_in_Oklahoma\n",
      "/wiki/List_of_colleges_and_universities_in_South_Carolina\n",
      "/wiki/List_of_colleges_and_universities_in_Tennessee\n",
      "/wiki/List_of_colleges_and_universities_in_Texas\n",
      "/wiki/List_of_colleges_and_universities_in_Virginia\n",
      "/wiki/List_of_colleges_and_universities_in_West_Virginia\n",
      "/wiki/File:Map_of_USA_highlighting_West.png\n",
      "/wiki/File:Map_of_USA_highlighting_West.png\n",
      "/wiki/Western_United_States\n",
      "/wiki/List_of_colleges_and_universities_in_Alaska\n",
      "/wiki/List_of_colleges_and_universities_in_Arizona\n",
      "/wiki/List_of_colleges_and_universities_in_California\n",
      "/wiki/List_of_colleges_and_universities_in_Colorado\n",
      "/wiki/List_of_colleges_and_universities_in_Hawaii\n",
      "/wiki/List_of_colleges_and_universities_in_Idaho\n",
      "/wiki/List_of_colleges_and_universities_in_Montana\n",
      "/wiki/List_of_colleges_and_universities_in_Nevada\n",
      "/wiki/List_of_colleges_and_universities_in_New_Mexico\n",
      "/wiki/List_of_colleges_and_universities_in_Oregon\n",
      "/wiki/List_of_colleges_and_universities_in_Utah\n",
      "/wiki/List_of_colleges_and_universities_in_Washington\n",
      "/wiki/List_of_colleges_and_universities_in_Wyoming\n",
      "/wiki/List_of_colleges_and_universities_in_Washington,_D.C.\n",
      "/wiki/File:US_insular_areas.svg\n",
      "/wiki/File:US_insular_areas_SVG.svg\n",
      "/wiki/Insular_area\n",
      "/wiki/Washington,_D.C.\n",
      "/wiki/List_of_colleges_and_universities_in_Guam\n",
      "/wiki/List_of_colleges_and_universities_in_Puerto_Rico\n",
      "/wiki/List_of_colleges_and_universities_in_the_United_States_Virgin_Islands\n",
      "/wiki/American_Samoa_Community_College\n",
      "/wiki/Northern_Marianas_College\n",
      "/wiki/Compact_of_Free_Association\n",
      "/wiki/Palau_Community_College\n",
      "/wiki/College_of_Micronesia-FSM\n",
      "/wiki/College_of_the_Marshall_Islands\n",
      "/wiki/United_States_Minor_Outlying_Islands\n",
      "/wiki/List_of_American_colleges_and_universities_abroad\n",
      "/wiki/Higher_education_accreditation_in_the_United_States\n",
      "/wiki/American_College_Dublin\n",
      "/wiki/American_College_of_Thessaloniki\n",
      "/wiki/American_College_of_Greece\n",
      "/wiki/American_InterContinental_University\n",
      "/wiki/American_University_in_Bosnia_and_Herzegovina\n",
      "/wiki/American_University_in_Bulgaria\n",
      "/wiki/The_American_University_in_Cairo\n",
      "/wiki/American_University_in_Dubai\n",
      "/wiki/American_University_of_Antigua\n",
      "/wiki/American_University_of_Armenia\n",
      "/wiki/American_University_of_Beirut\n",
      "/wiki/American_University_of_Paris\n",
      "/wiki/American_University_of_Rome\n",
      "/wiki/American_University_of_Sharjah\n",
      "/wiki/American_University_of_Nigeria\n",
      "/wiki/Central_European_University\n",
      "/wiki/Franklin_University_Switzerland\n",
      "/wiki/Girne_American_University\n",
      "/wiki/George_Mason_University\n",
      "/wiki/Hellenic_American_University\n",
      "/wiki/Hult_International_Business_School\n",
      "/wiki/John_Cabot_University\n",
      "/wiki/Kean_University\n",
      "/wiki/Kean_University-Wenzhou\n",
      "/wiki/Keiser_University\n",
      "/wiki/Keiser_University-Latin_American_Campus\n",
      "/wiki/Lakeland_University\n",
      "/wiki/Lakeland_University_Japan_Campus\n",
      "/wiki/Lebanese_American_University\n",
      "/wiki/McDaniel_College_Budapest\n",
      "/wiki/New_York_University\n",
      "/wiki/New_York_University_Abu_Dhabi\n",
      "/wiki/New_York_University\n",
      "/wiki/New_York_University\n",
      "/wiki/New_York_University_Florence\n",
      "/wiki/Richmond,_The_American_International_University_in_London\n",
      "/wiki/RIT_Kosovo\n",
      "/wiki/Rochester_Institute_of_Technology\n",
      "/wiki/Rochester_Institute_of_Technology_-_Dubai\n",
      "/wiki/Saint_Louis_University\n",
      "/wiki/Saint_Louis_University_Madrid_Campus\n",
      "/wiki/Schiller_International_University\n",
      "/wiki/St._John%27s_University_(New_York_City)\n",
      "/wiki/St._John%27s_University_(Italy)\n",
      "/wiki/St._John%27s_University_(New_York_City)\n",
      "/wiki/St._John%27s_University_Paris_Campus\n",
      "/wiki/Stony_Brook_University\n",
      "/wiki/Temple_University\n",
      "/wiki/Temple_University_Rome\n",
      "/wiki/Temple_University\n",
      "/wiki/Temple_University,_Japan_Campus\n",
      "/wiki/University_of_Maryland_Global_Campus\n",
      "/wiki/University_of_Utah\n",
      "/wiki/Webster_University_Geneva\n",
      "/wiki/Webster_University_Geneva\n",
      "/wiki/United_States_International_University\n",
      "/wiki/G.I._American_universities\n",
      "/wiki/Ivy_League\n",
      "/wiki/List_of_community_colleges\n",
      "/wiki/List_of_current_and_historical_women%27s_universities_and_colleges_in_the_United_States\n",
      "/wiki/List_of_defunct_military_academies_in_the_United_States\n",
      "/wiki/List_of_dental_schools_in_the_United_States\n",
      "/wiki/List_of_historically_black_colleges_and_universities\n",
      "/wiki/List_of_law_schools_in_the_United_States\n",
      "/wiki/List_of_leaders_of_universities_and_colleges_in_the_United_States\n",
      "/wiki/List_of_liberal_arts_colleges_in_the_United_States\n",
      "/wiki/List_of_medical_schools_in_the_United_States\n",
      "/wiki/List_of_online_colleges_in_the_United_States\n",
      "/wiki/List_of_the_largest_United_States_colleges_and_universities_by_enrollment\n",
      "/wiki/Lists_of_universities_and_colleges\n",
      "/wiki/Men%27s_colleges_in_the_United_States\n",
      "/wiki/List_of_colleges_and_universities_in_Alabama\n",
      "/wiki/List_of_colleges_and_universities_in_Alaska\n",
      "/wiki/List_of_colleges_and_universities_in_Arizona\n",
      "/wiki/List_of_colleges_and_universities_in_Arkansas\n",
      "/wiki/List_of_colleges_and_universities_in_California\n",
      "/wiki/List_of_colleges_and_universities_in_Colorado\n",
      "/wiki/List_of_colleges_and_universities_in_Connecticut\n",
      "/wiki/List_of_colleges_and_universities_in_Delaware\n",
      "/wiki/List_of_colleges_and_universities_in_Florida\n",
      "/wiki/List_of_colleges_and_universities_in_Georgia_(U.S._state)\n",
      "/wiki/List_of_colleges_and_universities_in_Hawaii\n",
      "/wiki/List_of_colleges_and_universities_in_Idaho\n",
      "/wiki/List_of_colleges_and_universities_in_Illinois\n",
      "/wiki/List_of_colleges_and_universities_in_Indiana\n",
      "/wiki/List_of_colleges_and_universities_in_Iowa\n",
      "/wiki/List_of_colleges_and_universities_in_Kansas\n",
      "/wiki/List_of_colleges_and_universities_in_Kentucky\n",
      "/wiki/List_of_colleges_and_universities_in_Louisiana\n",
      "/wiki/List_of_colleges_and_universities_in_Maine\n",
      "/wiki/List_of_colleges_and_universities_in_Maryland\n",
      "/wiki/List_of_colleges_and_universities_in_Massachusetts\n",
      "/wiki/List_of_colleges_and_universities_in_Michigan\n",
      "/wiki/List_of_colleges_and_universities_in_Minnesota\n",
      "/wiki/List_of_colleges_and_universities_in_Mississippi\n",
      "/wiki/List_of_colleges_and_universities_in_Missouri\n",
      "/wiki/List_of_colleges_and_universities_in_Montana\n",
      "/wiki/List_of_colleges_and_universities_in_Nebraska\n",
      "/wiki/List_of_colleges_and_universities_in_Nevada\n",
      "/wiki/List_of_colleges_and_universities_in_New_Hampshire\n",
      "/wiki/List_of_colleges_and_universities_in_New_Jersey\n",
      "/wiki/List_of_colleges_and_universities_in_New_Mexico\n",
      "/wiki/List_of_colleges_and_universities_in_New_York\n",
      "/wiki/List_of_colleges_and_universities_in_North_Carolina\n",
      "/wiki/List_of_colleges_and_universities_in_North_Dakota\n",
      "/wiki/List_of_colleges_and_universities_in_Ohio\n",
      "/wiki/List_of_colleges_and_universities_in_Oklahoma\n",
      "/wiki/List_of_colleges_and_universities_in_Oregon\n",
      "/wiki/List_of_colleges_and_universities_in_Pennsylvania\n",
      "/wiki/List_of_colleges_and_universities_in_Rhode_Island\n",
      "/wiki/List_of_colleges_and_universities_in_South_Carolina\n",
      "/wiki/List_of_colleges_and_universities_in_South_Dakota\n",
      "/wiki/List_of_colleges_and_universities_in_Tennessee\n",
      "/wiki/List_of_colleges_and_universities_in_Texas\n",
      "/wiki/List_of_colleges_and_universities_in_Utah\n",
      "/wiki/List_of_colleges_and_universities_in_Vermont\n",
      "/wiki/List_of_colleges_and_universities_in_Virginia\n",
      "/wiki/List_of_colleges_and_universities_in_Washington\n",
      "/wiki/List_of_colleges_and_universities_in_West_Virginia\n",
      "/wiki/List_of_colleges_and_universities_in_Wisconsin\n",
      "/wiki/List_of_colleges_and_universities_in_Wyoming\n",
      "/wiki/Federal_district\n",
      "/wiki/List_of_colleges_and_universities_in_Washington,_D.C.\n",
      "/wiki/Insular_area\n",
      "/wiki/List_of_colleges_and_universities_in_American_Samoa\n",
      "/wiki/List_of_colleges_and_universities_in_Guam\n",
      "/wiki/List_of_colleges_and_universities_in_the_Northern_Mariana_Islands\n",
      "/wiki/List_of_colleges_and_universities_in_Puerto_Rico\n",
      "/wiki/List_of_colleges_and_universities_in_the_United_States_Virgin_Islands\n",
      "/wiki/List_of_community_colleges_in_the_United_States\n",
      "/wiki/List_of_dental_schools_in_the_United_States\n",
      "/wiki/List_of_historically_black_colleges_and_universities\n",
      "/wiki/List_of_law_schools_in_the_United_States\n",
      "/wiki/List_of_medical_schools_in_the_United_States\n",
      "/wiki/List_of_men%27s_colleges_in_the_United_States\n",
      "/wiki/List_of_United_States_military_schools_and_academies\n",
      "/wiki/List_of_defunct_military_academies_in_the_United_States\n",
      "/wiki/List_of_liberal_arts_colleges_in_the_United_States\n",
      "/wiki/List_of_online_colleges_in_the_United_States\n",
      "/wiki/List_of_research_universities_in_the_United_States\n",
      "/wiki/List_of_vocational_colleges_in_the_United_States\n",
      "/wiki/List_of_current_and_historical_women%27s_universities_and_colleges_in_the_United_States\n",
      "/wiki/List_of_colleges_and_universities_in_the_United_States_by_endowment\n",
      "/wiki/List_of_the_largest_United_States_colleges_and_universities_by_enrollment\n",
      "/wiki/List_of_United_States_public_university_campuses_by_enrollment\n",
      "/wiki/List_of_United_States_university_campuses_by_undergraduate_enrollment\n",
      "/wiki/Template:North_America_topic\n",
      "/wiki/Template_talk:North_America_topic\n",
      "/wiki/List_of_universities_in_North_America\n",
      "/wiki/List_of_universities_in_Antigua_and_Barbuda\n",
      "/wiki/List_of_universities_in_the_Bahamas\n",
      "/wiki/List_of_universities_in_Barbados\n",
      "/wiki/List_of_universities_in_Belize\n",
      "/wiki/List_of_universities_in_Canada\n",
      "/wiki/List_of_universities_in_Costa_Rica\n",
      "/wiki/List_of_universities_in_Cuba\n",
      "/wiki/List_of_universities_in_Dominica\n",
      "/wiki/List_of_universities_in_the_Dominican_Republic\n",
      "/wiki/List_of_universities_in_El_Salvador\n",
      "/wiki/List_of_universities_in_Grenada\n",
      "/wiki/List_of_universities_in_Guatemala\n",
      "/wiki/List_of_universities_in_Haiti\n",
      "/wiki/List_of_universities_in_Honduras\n",
      "/wiki/List_of_universities_in_Jamaica\n",
      "/wiki/List_of_universities_in_Mexico\n",
      "/wiki/List_of_universities_in_Nicaragua\n",
      "/wiki/List_of_universities_in_Panama\n",
      "/wiki/List_of_universities_in_Saint_Kitts_and_Nevis\n",
      "/wiki/List_of_universities_in_Saint_Vincent_and_the_Grenadines\n",
      "/wiki/List_of_universities_in_Trinidad_and_Tobago\n",
      "/wiki/List_of_universities_in_the_United_States\n",
      "/wiki/List_of_universities_in_Anguilla\n",
      "/wiki/List_of_universities_in_Aruba\n",
      "/wiki/List_of_universities_in_Bonaire\n",
      "/wiki/List_of_universities_in_the_British_Virgin_Islands\n",
      "/wiki/List_of_universities_in_the_Cayman_Islands\n",
      "/wiki/List_of_universities_in_Greenland\n",
      "/wiki/List_of_universities_in_Guadeloupe\n",
      "/wiki/List_of_universities_in_Martinique\n",
      "/wiki/List_of_universities_in_Montserrat\n",
      "/wiki/List_of_universities_in_Puerto_Rico\n",
      "/wiki/List_of_universities_in_Saint_Pierre_and_Miquelon\n",
      "/wiki/List_of_universities_in_Saba\n",
      "/wiki/List_of_universities_in_Sint_Eustatius\n",
      "/wiki/List_of_universities_in_Sint_Maarten\n",
      "/wiki/List_of_universities_in_the_Turks_and_Caicos_Islands\n",
      "/wiki/List_of_universities_in_the_United_States_Virgin_Islands\n",
      "/wiki/File:DAB_list_gray.svg\n",
      "/wiki/Wikipedia:Lists_of_lists\n",
      "/wiki/Help:Category\n",
      "/wiki/Category:Lists_of_education_lists\n",
      "/wiki/Category:Lists_of_universities_and_colleges_in_the_United_States\n",
      "/wiki/Category:Universities_and_colleges_in_the_United_States\n",
      "/wiki/Category:Lists_of_universities_and_colleges_in_North_America\n",
      "/wiki/Category:Lists_of_universities_and_colleges_by_country\n",
      "/wiki/Category:Articles_with_short_description\n",
      "/wiki/Category:Short_description_matches_Wikidata\n",
      "/wiki/Category:Use_mdy_dates_from_August_2017\n",
      "/wiki/Category:Lists_of_lists_with_listcat_specified\n",
      "/wiki/Special:MyTalk\n",
      "/wiki/Special:MyContributions\n",
      "/wiki/Lists_of_American_universities_and_colleges\n",
      "/wiki/Talk:Lists_of_American_universities_and_colleges\n",
      "/wiki/Lists_of_American_universities_and_colleges\n",
      "/wiki/Main_Page\n",
      "/wiki/Main_Page\n",
      "/wiki/Wikipedia:Contents\n",
      "/wiki/Portal:Current_events\n",
      "/wiki/Special:Random\n",
      "/wiki/Wikipedia:About\n",
      "//en.wikipedia.org/wiki/Wikipedia:Contact_us\n",
      "https://donate.wikimedia.org/wiki/Special:FundraiserRedirector?utm_source=donate&utm_medium=sidebar&utm_campaign=C13_en.wikipedia.org&uselang=en\n",
      "/wiki/Help:Contents\n",
      "/wiki/Help:Introduction\n",
      "/wiki/Wikipedia:Community_portal\n",
      "/wiki/Special:RecentChanges\n",
      "/wiki/Wikipedia:File_Upload_Wizard\n",
      "/wiki/Special:WhatLinksHere/Lists_of_American_universities_and_colleges\n",
      "/wiki/Special:RecentChangesLinked/Lists_of_American_universities_and_colleges\n",
      "/wiki/Wikipedia:File_Upload_Wizard\n",
      "/wiki/Special:SpecialPages\n",
      "https://www.wikidata.org/wiki/Special:EntityPage/Q1849445\n",
      "https://commons.wikimedia.org/wiki/Category:American_Universities\n",
      "https://ar.wikipedia.org/wiki/%D9%82%D8%A7%D8%A6%D9%85%D8%A9_%D8%A7%D9%84%D8%AC%D8%A7%D9%85%D8%B9%D8%A7%D8%AA_%D8%A7%D9%84%D8%A3%D9%85%D8%B1%D9%8A%D9%83%D9%8A%D8%A9\n",
      "https://az.wikipedia.org/wiki/AB%C5%9E_ali_t%C9%99hsil_m%C3%BC%C9%99ssis%C9%99l%C9%99rinin_siyah%C4%B1s%C4%B1\n",
      "https://et.wikipedia.org/wiki/Ameerika_%C3%9Chendriikide_k%C3%B5rgkoolide_loend\n",
      "https://es.wikipedia.org/wiki/Anexo:Universidades_de_Estados_Unidos\n",
      "https://fa.wikipedia.org/wiki/%D9%81%D9%87%D8%B1%D8%B3%D8%AA_%D8%AF%D8%A7%D9%86%D8%B4%DA%AF%D8%A7%D9%87%E2%80%8C%D9%87%D8%A7%DB%8C_%D8%A2%D9%85%D8%B1%DB%8C%DA%A9%D8%A7\n",
      "https://fr.wikipedia.org/wiki/Liste_des_universit%C3%A9s_aux_%C3%89tats-Unis\n",
      "https://ga.wikipedia.org/wiki/Liosta_Ollscoileanna_i_St%C3%A1it_Aontaithe_Mheirice%C3%A1\n",
      "https://id.wikipedia.org/wiki/Daftar_perguruan_tinggi_di_Amerika_Serikat\n",
      "https://it.wikipedia.org/wiki/Universit%C3%A0_negli_Stati_Uniti_d%27America\n",
      "https://kk.wikipedia.org/wiki/%D0%90%D2%9A%D0%A8_%D0%B6%D0%BE%D2%93%D0%B0%D1%80%D1%8B_%D0%BE%D2%9B%D1%83_%D0%BE%D1%80%D1%8B%D0%BD%D0%B4%D0%B0%D1%80%D1%8B%D0%BD%D1%8B%D2%A3_%D1%82%D1%96%D0%B7%D1%96%D0%BC%D1%96\n",
      "https://nl.wikipedia.org/wiki/Lijst_van_universiteiten_in_de_Verenigde_Staten\n",
      "https://uz.wikipedia.org/wiki/AQShdagi_universitetlar_ro%CA%BByxati\n",
      "https://pt.wikipedia.org/wiki/Lista_de_universidades_dos_Estados_Unidos\n",
      "https://simple.wikipedia.org/wiki/Colleges_and_universities_in_the_United_States\n",
      "https://ckb.wikipedia.org/wiki/%D9%BE%DB%8E%DA%95%D8%B3%D8%AA%DB%8C_%D8%B2%D8%A7%D9%86%DA%A9%DB%86%DA%A9%D8%A7%D9%86%DB%8C_%D9%88%DB%8C%D9%84%D8%A7%DB%8C%DB%95%D8%AA%DB%95_%DB%8C%DB%95%DA%A9%DA%AF%D8%B1%D8%AA%D9%88%D9%88%DB%95%DA%A9%D8%A7%D9%86\n",
      "https://fi.wikipedia.org/wiki/Luettelo_Yhdysvaltojen_yliopistoista_ja_korkeakouluista\n",
      "https://sv.wikipedia.org/wiki/Lista_%C3%B6ver_universitet_i_USA\n",
      "https://tr.wikipedia.org/wiki/Amerika_Birle%C5%9Fik_Devletleri%27ndeki_y%C3%BCksek%C3%B6%C4%9Fretim_kurumlar%C4%B1_listesi\n",
      "https://zh.wikipedia.org/wiki/%E7%BE%8E%E5%9C%8B%E5%A4%A7%E5%AD%B8%E5%88%97%E8%A1%A8\n",
      "https://www.wikidata.org/wiki/Special:EntityPage/Q1849445#sitelinks-wikipedia\n",
      "//en.wikipedia.org/wiki/Wikipedia:Text_of_Creative_Commons_Attribution-ShareAlike_3.0_Unported_License\n",
      "//foundation.wikimedia.org/wiki/Terms_of_Use\n",
      "//foundation.wikimedia.org/wiki/Privacy_policy\n",
      "https://foundation.wikimedia.org/wiki/Privacy_policy\n",
      "/wiki/Wikipedia:About\n",
      "/wiki/Wikipedia:General_disclaimer\n",
      "//en.wikipedia.org/wiki/Wikipedia:Contact_us\n",
      "https://www.mediawiki.org/wiki/Special:MyLanguage/How_to_contribute\n",
      "https://foundation.wikimedia.org/wiki/Cookie_statement\n"
     ]
    }
   ],
   "source": [
    "for one_row in df_country.itertuples():\n",
    "    url, title = one_row[1], one_row[2]\n",
    "    print(url)"
   ]
  },
  {
   "cell_type": "code",
   "execution_count": 159,
   "metadata": {},
   "outputs": [
    {
     "data": {
      "text/plain": [
       "url       /wiki/List_of_colleges_and_universities_in_Con...\n",
       "title                                           Connecticut\n",
       "coutry                                                  USA\n",
       "Name: 42, dtype: object"
      ]
     },
     "execution_count": 159,
     "metadata": {},
     "output_type": "execute_result"
    }
   ],
   "source": [
    "df_state[df_state[\"url\"].str.contains(\"Connec\")].iloc[0, :].T"
   ]
  },
  {
   "cell_type": "code",
   "execution_count": null,
   "metadata": {},
   "outputs": [],
   "source": [
    " "
   ]
  },
  {
   "cell_type": "code",
   "execution_count": null,
   "metadata": {},
   "outputs": [],
   "source": []
  },
  {
   "cell_type": "code",
   "execution_count": 87,
   "metadata": {},
   "outputs": [],
   "source": [
    "\n",
    "        "
   ]
  },
  {
   "cell_type": "code",
   "execution_count": 88,
   "metadata": {},
   "outputs": [],
   "source": [
    "all_urls = [] \n",
    "#for link in soup.findAll('a', attrs={'href': re.compile(\"^http://\")}):\n",
    "#for link in soup.findAll('a', attrs={'href': re.compile(\".+\")}):\n",
    "#for link in soup.findAll('a', attrs={'href': \"\"}):\n",
    "for link in soup.findAll('a'):\n",
    "    sub_url = link.get(\"href\") #link[\"href\"]\n",
    "    if sub_url:\n",
    "        all_urls.append(sub_url)\n"
   ]
  },
  {
   "cell_type": "code",
   "execution_count": 95,
   "metadata": {},
   "outputs": [
    {
     "name": "stdout",
     "output_type": "stream",
     "text": [
      "/wiki/University_of_Delaware\n"
     ]
    }
   ],
   "source": [
    "for aa in all_urls: \n",
    "    if \"elaw\" in aa:\n",
    "        print(aa)"
   ]
  },
  {
   "cell_type": "code",
   "execution_count": 94,
   "metadata": {},
   "outputs": [
    {
     "data": {
      "text/plain": [
       "3662"
      ]
     },
     "execution_count": 94,
     "metadata": {},
     "output_type": "execute_result"
    }
   ],
   "source": [
    " "
   ]
  },
  {
   "cell_type": "code",
   "execution_count": null,
   "metadata": {},
   "outputs": [],
   "source": []
  },
  {
   "cell_type": "markdown",
   "metadata": {},
   "source": [
    "# word list -- part 2\n",
    "* let's make it more relavant\n",
    "* let's make a learning plan "
   ]
  },
  {
   "cell_type": "code",
   "execution_count": null,
   "metadata": {},
   "outputs": [],
   "source": [
    " "
   ]
  },
  {
   "cell_type": "code",
   "execution_count": 327,
   "metadata": {},
   "outputs": [
    {
     "data": {
      "text/html": [
       "<div>\n",
       "<style scoped>\n",
       "    .dataframe tbody tr th:only-of-type {\n",
       "        vertical-align: middle;\n",
       "    }\n",
       "\n",
       "    .dataframe tbody tr th {\n",
       "        vertical-align: top;\n",
       "    }\n",
       "\n",
       "    .dataframe thead th {\n",
       "        text-align: right;\n",
       "    }\n",
       "</style>\n",
       "<table border=\"1\" class=\"dataframe\">\n",
       "  <thead>\n",
       "    <tr style=\"text-align: right;\">\n",
       "      <th></th>\n",
       "      <th>Seq</th>\n",
       "      <th>WORD</th>\n",
       "      <th>DEFINITION</th>\n",
       "      <th>GROUPING</th>\n",
       "    </tr>\n",
       "  </thead>\n",
       "  <tbody>\n",
       "    <tr>\n",
       "      <th>0</th>\n",
       "      <td>1</td>\n",
       "      <td>abash</td>\n",
       "      <td>to make ashamed</td>\n",
       "      <td>verb</td>\n",
       "    </tr>\n",
       "    <tr>\n",
       "      <th>1</th>\n",
       "      <td>2</td>\n",
       "      <td>abate</td>\n",
       "      <td>to put an end to</td>\n",
       "      <td>verb</td>\n",
       "    </tr>\n",
       "    <tr>\n",
       "      <th>2</th>\n",
       "      <td>3</td>\n",
       "      <td>abbess</td>\n",
       "      <td>a female superior or governess of a nunnery</td>\n",
       "      <td>noun</td>\n",
       "    </tr>\n",
       "    <tr>\n",
       "      <th>3</th>\n",
       "      <td>4</td>\n",
       "      <td>abbey</td>\n",
       "      <td>a monastery or society of people</td>\n",
       "      <td>noun</td>\n",
       "    </tr>\n",
       "    <tr>\n",
       "      <th>4</th>\n",
       "      <td>5</td>\n",
       "      <td>abbot</td>\n",
       "      <td>the superior or head of an abbey or monastery</td>\n",
       "      <td>noun</td>\n",
       "    </tr>\n",
       "    <tr>\n",
       "      <th>...</th>\n",
       "      <td>...</td>\n",
       "      <td>...</td>\n",
       "      <td>...</td>\n",
       "      <td>...</td>\n",
       "    </tr>\n",
       "    <tr>\n",
       "      <th>5995</th>\n",
       "      <td>5996</td>\n",
       "      <td>zeitgeist</td>\n",
       "      <td>a trend of thought characteristic of a particu...</td>\n",
       "      <td>noun</td>\n",
       "    </tr>\n",
       "    <tr>\n",
       "      <th>5996</th>\n",
       "      <td>5997</td>\n",
       "      <td>zenith</td>\n",
       "      <td>a highest point or state</td>\n",
       "      <td>noun</td>\n",
       "    </tr>\n",
       "    <tr>\n",
       "      <th>5997</th>\n",
       "      <td>5998</td>\n",
       "      <td>zephyr</td>\n",
       "      <td>a gentle, mild breeze</td>\n",
       "      <td>noun</td>\n",
       "    </tr>\n",
       "    <tr>\n",
       "      <th>5998</th>\n",
       "      <td>5999</td>\n",
       "      <td>zodiac</td>\n",
       "      <td>an astrological system</td>\n",
       "      <td>noun</td>\n",
       "    </tr>\n",
       "    <tr>\n",
       "      <th>5999</th>\n",
       "      <td>6000</td>\n",
       "      <td>zodiacal</td>\n",
       "      <td>of or pertaining to the zodiac</td>\n",
       "      <td>adjective</td>\n",
       "    </tr>\n",
       "  </tbody>\n",
       "</table>\n",
       "<p>6000 rows × 4 columns</p>\n",
       "</div>"
      ],
      "text/plain": [
       "       Seq       WORD                                         DEFINITION  \\\n",
       "0        1      abash                                    to make ashamed   \n",
       "1        2      abate                                   to put an end to   \n",
       "2        3     abbess        a female superior or governess of a nunnery   \n",
       "3        4      abbey                   a monastery or society of people   \n",
       "4        5      abbot      the superior or head of an abbey or monastery   \n",
       "...    ...        ...                                                ...   \n",
       "5995  5996  zeitgeist  a trend of thought characteristic of a particu...   \n",
       "5996  5997     zenith                           a highest point or state   \n",
       "5997  5998     zephyr                              a gentle, mild breeze   \n",
       "5998  5999     zodiac                             an astrological system   \n",
       "5999  6000   zodiacal                     of or pertaining to the zodiac   \n",
       "\n",
       "       GROUPING  \n",
       "0          verb  \n",
       "1          verb  \n",
       "2          noun  \n",
       "3          noun  \n",
       "4          noun  \n",
       "...         ...  \n",
       "5995       noun  \n",
       "5996       noun  \n",
       "5997       noun  \n",
       "5998       noun  \n",
       "5999  adjective  \n",
       "\n",
       "[6000 rows x 4 columns]"
      ]
     },
     "execution_count": 327,
     "metadata": {},
     "output_type": "execute_result"
    }
   ],
   "source": [
    "# url = \"https://satvocabulary.us/INDEX.ASP?CATEGORY=6000LIST\"\n",
    "output_file_foler = os.getcwd() \n",
    "file_name = \"Session_01_SAT_Vocab.csv\" \n",
    "output_file = Path(output_file_foler, file_name)\n",
    "\n",
    "df_words = pd.read_csv(output_file) \n",
    "\n",
    "df_words.dropna()"
   ]
  },
  {
   "cell_type": "code",
   "execution_count": 272,
   "metadata": {},
   "outputs": [
    {
     "name": "stdout",
     "output_type": "stream",
     "text": [
      "abash Pandas(Index=0, Seq=1, WORD='abash', DEFINITION='to make ashamed', GROUPING='verb') verb\n"
     ]
    }
   ],
   "source": [
    "for row in df_words.itertuples():\n",
    "    print(row[2], row, row[4])\n",
    "    break"
   ]
  },
  {
   "cell_type": "code",
   "execution_count": 320,
   "metadata": {},
   "outputs": [],
   "source": [
    "def get_wn_tag(tag):\n",
    "    \"\"\"\n",
    "        input: tag is the Grouping in the sat word list\n",
    "        output: the tagging that required by NLTK \n",
    "    \"\"\" \n",
    "    tag = tag.lower()\n",
    "    \n",
    "    if tag in ['adjective', 'adj']:\n",
    "        return wn.ADJ\n",
    "    elif tag in ['adverb', \"adv\"]:\n",
    "        return wn.ADV\n",
    "    elif tag in ['noun']:\n",
    "        return wn.NOUN\n",
    "    elif tag in ['verb']:\n",
    "        return wn.VERB\n",
    "    #elif tag in ['preposition']:\n",
    "    #    return wn.PRP\n",
    "    else:\n",
    "        return \"\""
   ]
  },
  {
   "cell_type": "markdown",
   "metadata": {},
   "source": [
    "# Wordlist"
   ]
  },
  {
   "cell_type": "code",
   "execution_count": 317,
   "metadata": {},
   "outputs": [],
   "source": [
    "def synonym_antonyms_parser(token = \"notebook\",  tag = \"noun\", *args, **kwargs  ):  \n",
    "    \"\"\"\n",
    "        input: token，one of the word in SAT 6000\n",
    "        output: synonym, antonym and sample sentences, if with_example_sentence set to True \n",
    "        *args, **kwargs: more to elaborate\n",
    "    \"\"\"\n",
    "    # get the the tag used in nltk\n",
    "    wn_tag = get_wn_tag(tag) \n",
    "    \n",
    "    # result list. in format of [token, seq, definition, sample sentences, synonyms, antonyms]\n",
    "    result = []\n",
    "    \n",
    "    synsets = wn.synsets(token,wn_tag)\n",
    "    \n",
    "    if not synsets: \n",
    "        return [[token, 1, \"\", \"\", \"\", \"\"]] # just return the token. other fields to be blank\n",
    "    \n",
    "    for i, synset in enumerate(synsets): \n",
    "        \n",
    "        one_row = [token, i + 1] \n",
    "        \n",
    "        one_row.append(synset.definition()) \n",
    "        \n",
    "        #sentences. make first Character in capital\n",
    "        examples = synset.examples()\n",
    "        examples = [example[0].upper()+example[1:] for example in examples] \n",
    "        one_row.append('. '.join(examples))\n",
    "         \n",
    "        # handle synonyms and antonyms\n",
    "        synonyms_words, antonyms_words = [], []\n",
    "        \n",
    "        lemmas = synset.lemmas() \n",
    "        for word in lemmas: \n",
    "            synonyms_words.append(word.name()) \n",
    "            \n",
    "            antonyms = word.antonyms() \n",
    "           \n",
    "            for antonym in antonyms: \n",
    "                antonyms_words.append(antonym.name())\n",
    "                \n",
    "        one_row.append('. '.join(synonyms_words))\n",
    "        one_row.append('. '.join(antonyms_words))\n",
    "       \n",
    "        result.append(one_row)\n",
    "        \n",
    "    return result"
   ]
  },
  {
   "cell_type": "code",
   "execution_count": 359,
   "metadata": {},
   "outputs": [],
   "source": [
    "def enrich_sat_list(sat_word_list_file, output_file = None, *args, **kwargs):\n",
    "    \"\"\"\n",
    "        input: sat_word_list_file, output_file, *args, **kwargs\n",
    "            sat_word_list_file: generated from previous lesson\n",
    "            outputfile: if None, then save to current wd\n",
    "        output: \n",
    "            None if success. \n",
    "            exception: print and return error message\n",
    "    \"\"\"\n",
    "    if not os.path.exists(sat_word_list_file):\n",
    "        return \"sat word file doesn't exist\"\n",
    "    \n",
    "    df_word = pd.read_csv(sat_word_list_file)\n",
    "    \n",
    "    # handle null\n",
    "    df_word.fillna(\"noun\", inplace = True)\n",
    "    \n",
    "    #now iterate all words: \n",
    "    enriched_list = []\n",
    "    for row in df_words.itertuples():\n",
    "        token, defintion, grouping = row[2], row[3], row[4] \n",
    "        \n",
    "        \n",
    "        enriched = synonym_antonyms_parser(token = token, tag = grouping, *args, **kwargs  )\n",
    "        enriched_list.extend(enriched)\n",
    "    \n",
    "    df_enriched = pd.DataFrame(enriched_list, columns = [\"token\",\"seq\",\"additional_definition\",\"sample sentences\",\"synonyms\",\"antonyms\"])\n",
    "     \n",
    "    df_word = df_word.merge(df_enriched, left_on = \"WORD\", right_on = \"token\", how = \"left\")\n",
    "    df_word.drop(\"token\", axis = 1, inplace = True)\n",
    "    \n",
    "    if not output_file:\n",
    "        output_file = Path(os.getcwd(), \"EnrichedSatWordList.csv\")\n",
    "    \n",
    "    df_word.to_csv(output_file, index = False) \n",
    "    \n",
    "    return df_word, output_file\n",
    "                               \n",
    "    \n",
    "    "
   ]
  },
  {
   "cell_type": "code",
   "execution_count": 360,
   "metadata": {},
   "outputs": [],
   "source": [
    " "
   ]
  },
  {
   "cell_type": "code",
   "execution_count": null,
   "metadata": {},
   "outputs": [],
   "source": [
    " "
   ]
  },
  {
   "cell_type": "code",
   "execution_count": null,
   "metadata": {},
   "outputs": [],
   "source": [
    " "
   ]
  },
  {
   "cell_type": "code",
   "execution_count": null,
   "metadata": {},
   "outputs": [],
   "source": [
    " "
   ]
  },
  {
   "cell_type": "markdown",
   "metadata": {},
   "source": [
    "## one line way:"
   ]
  },
  {
   "cell_type": "code",
   "execution_count": 59,
   "metadata": {},
   "outputs": [
    {
     "name": "stdout",
     "output_type": "stream",
     "text": [
      "1.9921875\n",
      "1.9999999997671694\n",
      "1.9999999997671694\n"
     ]
    }
   ],
   "source": [
    "print(sum([1/np.power(2.,i) for i in range(1 + int(np.log2(128)))]))\n",
    "print(sum([1/np.power(2.,i) for i in range(1 + int(np.log2(4294967296)))]))\n",
    "\n",
    "print(sum([1/np.float_power(2.,i) for i in range(1 + int(np.log2(4294967296)))]))\n"
   ]
  },
  {
   "cell_type": "markdown",
   "metadata": {},
   "source": [
    "## method way "
   ]
  },
  {
   "cell_type": "code",
   "execution_count": 21,
   "metadata": {},
   "outputs": [],
   "source": [
    "def sum_up(x):\n",
    "    \"\"\"\n",
    "        x is a list [1, 1/2....1/128]\n",
    "    \"\"\"\n",
    "    # one line: \n",
    "    #return sum(x)\n",
    "\n",
    "    #or: \n",
    "    result = 0 \n",
    "    for item in x: \n",
    "        result += x\n",
    "    \n",
    "    return result  "
   ]
  },
  {
   "cell_type": "code",
   "execution_count": 55,
   "metadata": {},
   "outputs": [],
   "source": [
    "def sum_up(n, base = 2):\n",
    "    \"\"\"\n",
    "        n is the denominator of last number\n",
    "        lots of corner cases are not considered\n",
    "        np: max is power(2, 1023)\n",
    "    \"\"\"\n",
    "    start,   result = 1, 1 \n",
    "    while start <= n:   \n",
    "        result += 1/start\n",
    "        start *= base    \n",
    "    return result  "
   ]
  },
  {
   "cell_type": "markdown",
   "metadata": {},
   "source": [
    "## learning:  \n",
    "* python list\n",
    "* number, over float \n",
    "* function. "
   ]
  },
  {
   "cell_type": "code",
   "execution_count": null,
   "metadata": {},
   "outputs": [],
   "source": [
    " "
   ]
  },
  {
   "cell_type": "markdown",
   "metadata": {},
   "source": [
    "# Pyvis\n",
    "* https://towardsdatascience.com/pyvis-visualize-interactive-network-graphs-in-python-77e059791f01"
   ]
  },
  {
   "cell_type": "code",
   "execution_count": null,
   "metadata": {},
   "outputs": [],
   "source": [
    "https://towardsdatascience.com/pyvis-visualize-interactive-network-graphs-in-python-77e059791f01"
   ]
  },
  {
   "cell_type": "code",
   "execution_count": null,
   "metadata": {},
   "outputs": [],
   "source": [
    "!pip install pyvis"
   ]
  },
  {
   "cell_type": "code",
   "execution_count": 18,
   "metadata": {},
   "outputs": [
    {
     "data": {
      "text/html": [
       "\n",
       "        <iframe\n",
       "            width=\"500px\"\n",
       "            height=\"500px\"\n",
       "            src=\"nodes.html\"\n",
       "            frameborder=\"0\"\n",
       "            allowfullscreen\n",
       "            \n",
       "        ></iframe>\n",
       "        "
      ],
      "text/plain": [
       "<IPython.lib.display.IFrame at 0x2126cb688c8>"
      ]
     },
     "execution_count": 18,
     "metadata": {},
     "output_type": "execute_result"
    }
   ],
   "source": [
    "from pyvis.network import Network\n",
    "\n",
    "net = Network(notebook = True)\n",
    "\n",
    "net.add_node(1, label='Alex')\n",
    "net.add_node(2, label='Cathy')\n",
    "\n",
    "net.add_nodes([3, 4, 5, 6], \n",
    "              label=['Michael', 'Ben', 'Oliver', 'Olivia'],\n",
    "              color=['#3da831', '#9a31a8', '#3155a8', '#eb4034'])\n",
    "net.show('list_of_nodes_with_color.html')\n",
    "\n",
    "net.add_edge(1, 5, value=2)\n",
    "net.add_edges([(2, 5, 5), (3, 4, 2), (1, 6), (2, 6), (3, 5)])\n",
    "net.repulsion(node_distance=100, spring_length=100)\n",
    "\n",
    "net.repulsion(node_distance=50, spring_length=200)\n",
    "net.show('nodes.html') "
   ]
  },
  {
   "cell_type": "markdown",
   "metadata": {},
   "source": [
    "# networkx\n",
    "* https://towardsdatascience.com/visualizing-networks-in-python-d70f4cbeb259\n",
    "* https://melaniewalsh.github.io/Intro-Cultural-Analytics/06-Network-Analysis/02-Making-Network-Viz-with-Bokeh.html"
   ]
  },
  {
   "cell_type": "code",
   "execution_count": null,
   "metadata": {},
   "outputs": [],
   "source": []
  }
 ],
 "metadata": {
  "kernelspec": {
   "display_name": "p39tf",
   "language": "python",
   "name": "p39tf"
  },
  "language_info": {
   "codemirror_mode": {
    "name": "ipython",
    "version": 3
   },
   "file_extension": ".py",
   "mimetype": "text/x-python",
   "name": "python",
   "nbconvert_exporter": "python",
   "pygments_lexer": "ipython3",
   "version": "3.7.10"
  },
  "vscode": {
   "interpreter": {
    "hash": "226ff6b8e5c2c89a2753d55cf07ae67b3df5c927604797766a717c8e82516c5f"
   }
  }
 },
 "nbformat": 4,
 "nbformat_minor": 4
}
