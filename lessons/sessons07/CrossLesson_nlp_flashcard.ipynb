{
 "cells": [
  {
   "cell_type": "markdown",
   "metadata": {},
   "source": [
    "<span style=\"background-color: lightgreen\"><font size =6>Flash Card:</font></span>"
   ]
  },
  {
   "cell_type": "markdown",
   "metadata": {},
   "source": [
    "**Steps:**\n",
    "* types of flash cards\n",
    "* define the types we want: what content, format etc.\n",
    "* detailed design: input, output\n",
    "* implement"
   ]
  },
  {
   "cell_type": "markdown",
   "metadata": {},
   "source": [
    "# types of flash card\n",
    "* example, we are familiar with these kinds"
   ]
  },
  {
   "cell_type": "code",
   "execution_count": 5,
   "metadata": {},
   "outputs": [
    {
     "data": {
      "image/png": "[encoded data removed]",
      "text/plain": [
       "<IPython.core.display.Image object>"
      ]
     },
     "metadata": {},
     "output_type": "display_data"
    },
    {
     "data": {
      "image/png": "[encoded data removed]",
      "text/plain": [
       "<IPython.core.display.Image object>"
      ]
     },
     "metadata": {},
     "output_type": "display_data"
    }
   ],
   "source": [
    "from IPython.display import Image, display, Markdown \n",
    "display(Image(r\"C:\\SP\\Teaching\\gifs\\flashcard_db.png\"))\n",
    "display(Image(r\"C:\\SP\\Teaching\\gifs\\flashcard_oneside.png\"))"
   ]
  },
  {
   "cell_type": "markdown",
   "metadata": {},
   "source": [
    "# define the types we want: what content, format etc\n",
    "* how about we add anotynyms and synonyms, and sample sentences\n",
    "* how about we have multiple choices?"
   ]
  },
  {
   "cell_type": "code",
   "execution_count": null,
   "metadata": {},
   "outputs": [],
   "source": []
  },
  {
   "cell_type": "markdown",
   "metadata": {},
   "source": [
    "# detailed design: input, output"
   ]
  },
  {
   "cell_type": "code",
   "execution_count": 7,
   "metadata": {},
   "outputs": [],
   "source": [
    "import os \n",
    "import re \n",
    "import requests \n",
    "import numpy as np\n",
    "import math\n",
    "from bs4 import BeautifulSoup  \n",
    "import pandas as pd \n",
    "from pathlib import Path\n",
    "import nltk \n",
    "from nltk.corpus import wordnet as wn\n",
    "from nltk.tokenize import word_tokenize\n",
    "from IPython.display import Image, display, Markdown\n",
    "import matplotlib.pyplot as plt\n",
    "from PIL import Image as img\n",
    "import random\n",
    "\n",
    "import wikipedia\n",
    "import wordcloud\n",
    "from tkinter import *\n",
    "from tkinter import ttk\n",
    "import tkinter"
   ]
  },
  {
   "cell_type": "code",
   "execution_count": 8,
   "metadata": {},
   "outputs": [],
   "source": [
    "def load_words(file=None):\n",
    "    \"\"\"\n",
    "        to do\n",
    "    \"\"\"\n",
    "    if not file:\n",
    "        file =\"c:/dscamp/lessons/session06/EnrichedSatWordList.csv\"\n",
    "    if not os.path.exists(file):\n",
    "        raise Exception(\"File doesnot exists\")\n",
    "                        \n",
    "    df = pd.read_csv(file) \n",
    "    \n",
    "    df = df[[\"Word\", \"Primary Definition\"]]\n",
    "    df.drop_duplicates(inplace=True)\n",
    "    df.columns = [\"French\", \"English\"]\n",
    "    to_learn = df.head(3).to_dict(orient=\"records\") \n",
    "    \n",
    "    return to_learn "
   ]
  },
  {
   "cell_type": "code",
   "execution_count": 75,
   "metadata": {},
   "outputs": [],
   "source": [
    "word, definition, antonyms, synomyms, sentences = \"word\", \"definition\", \"antonyms\", \"synomyms\", \"sentences\"\n",
    "\n",
    "def on_click():\n",
    "    v = combobox.get()\n",
    "    t2[\"text\"] = v \n",
    "    t1[\"text\"] = \"disabled\"\n",
    "    \n",
    "root = tkinter.Tk()\n",
    "root.title(\"Home Made SAT Word Flash Cards\") \n",
    "\n",
    "canvas = Canvas(root,  width=750, height=500) #bg=\"lightblue\",\n",
    "\n",
    "label_total_count = tkinter.Label(root, text=\"Vocabulary Size:\", fg = \"black\", font = (\"Times\", 15))\n",
    "label_total_count.place(relx = 0.2, rely = 0.05, anchor ='w') \n",
    "\n",
    "label_total_count_val = tkinter.Label(root, \n",
    "    text=\"n words:\",\n",
    "    fg = \"black\",\n",
    "    font = (\"Times\", 15)\n",
    ")\n",
    "label_total_count_val.place(  \n",
    "    relx = 0.65,\n",
    "    rely = 0.05,\n",
    "    anchor ='e'\n",
    ") \n",
    " \n",
    "\n",
    "reviewed_count = tkinter.Label(root, \n",
    "    text=\"You've Revied:\",\n",
    "    fg = \"black\",\n",
    "    font = (\"Times\", 15)\n",
    ")\n",
    "reviewed_count.place(  \n",
    "    relx = 0.2,\n",
    "    rely = 0.10,\n",
    "    anchor ='w'\n",
    ")  \n",
    "reviewed_count_val = tkinter.Label(root, \n",
    "    text=\"n words:\",\n",
    "    fg = \"black\",\n",
    "    font = (\"Times\", 15)\n",
    ")\n",
    "reviewed_count_val.place(  \n",
    "    relx = 0.65,\n",
    "    rely = 0.1,\n",
    "    anchor ='e'\n",
    ") \n",
    " \n",
    "\n",
    "reviewed_count = tkinter.Label(root, \n",
    "    text=\"Pop-up New Word:\",\n",
    "    fg = \"black\",\n",
    "    font = (\"Times\", 15)\n",
    ")\n",
    "reviewed_count.place(  \n",
    "    relx = 0.2,\n",
    "    rely = 0.15,\n",
    "    anchor ='w'\n",
    ")  \n",
    "\n",
    "combobox= ttk.Combobox(root,state= \"readonly\", width = 12)\n",
    "combobox['values']=('Alphabetically','Randomly')\n",
    "combobox.current(1)\n",
    "combobox.place(  \n",
    "    relx = 0.65,\n",
    "    rely = 0.15,\n",
    "    anchor ='e'\n",
    ") \n",
    "\n",
    "#combobox.pack(pady=30, ipadx=20)\n",
    "\n",
    "canvas.create_line(0,105,1000,105,fill=\"red\")\n",
    "# content\n",
    "# word, definition, antonyms, synomyms, sentences = \"word\", \"definition\", \"antonyms\", \"synomyms\", \"sentences\"\n",
    "#label_word = tkinter.Label(root, text=\"Word\", fg = \"black\", font = (\"Times\", 15))\n",
    "#label_word.place(relx = 0.2, rely = 0.30, anchor ='w') \n",
    "label_word_val = tkinter.Label(root, text=word, fg = \"black\", font = (\"Times\", 25))\n",
    "label_word_val.place(relx = 0.5, rely = 0.30, anchor ='e')  \n",
    "\n",
    "label_definition = tkinter.Label(root, text=\"definition\", fg = \"black\", font = (\"Times\", 15))\n",
    "label_definition.place(relx = 0.1, rely = 0.40, anchor ='w')  \n",
    "label_definition_val = tkinter.Label(root, text=definition, fg = \"black\", font = (\"Times\", 15))\n",
    "label_definition_val.place(relx = 0.6, rely = 0.40, anchor ='w') \n",
    "\n",
    "label_synomyms = tkinter.Label(root, text=\"synomyms\", fg = \"black\", font = (\"Times\", 15))\n",
    "label_synomyms.place(relx = 0.1, rely = 0.50, anchor ='w') \n",
    "label_synomyms_val = tkinter.Label(root, text=synomyms, fg = \"black\", font = (\"Times\", 15))\n",
    "label_synomyms_val.place(relx = 0.6, rely = 0.50, anchor ='w') \n",
    "\n",
    "label_antonyms = tkinter.Label(root, text=\"antonyms\", fg = \"black\", font = (\"Times\", 15))\n",
    "label_antonyms.place(relx = 0.1, rely = 0.60, anchor ='w')  \n",
    "label_antonyms_val = tkinter.Label(root, text=antonyms, fg = \"black\", font = (\"Times\", 15))\n",
    "label_antonyms_val.place(relx = 0.6, rely = 0.60, anchor ='w')  \n",
    "\n",
    "label_sentences = tkinter.Label(root, text=\"sentences\", fg = \"black\", font = (\"Times\", 15))\n",
    "label_sentences.place(relx = 0.1, rely = 0.70, anchor ='w') \n",
    "label_sentences_val = tkinter.Label(root, text=sentences, fg = \"black\", font = (\"Times\", 15))\n",
    "label_sentences_val.place(relx = 0.6, rely = 0.70, anchor ='w') \n",
    "\n",
    "\n",
    "#end\n",
    "canvas.create_line(0,450,1000,450,fill=\"red\")\n",
    "btn = Button(root, text = 'Next One', bd = '5', command = on_click) \n",
    "btn2 = Button(root, text = 'Exit', bd = '5', command = root.destroy)\n",
    "btn.place(  relx = 0.55,  rely = 0.95,  anchor ='e') \n",
    "btn2.place(  relx = 0.90,  rely = 0.95,  anchor ='w') \n",
    "\n",
    "#btn.pack(side = 'bottom', anchor = 'center')\n",
    "#btn2.pack(side = 'bottom', anchor = 'w') \n",
    "\n",
    "canvas.pack()\n",
    "root.mainloop() \n",
    " \n",
    "def on_click():\n",
    "    v = combobox.get()\n",
    "    t2[\"text\"] = v \n",
    "    t1[\"text\"] = \"disabled\""
   ]
  },
  {
   "cell_type": "code",
   "execution_count": null,
   "metadata": {},
   "outputs": [],
   "source": [
    " "
   ]
  },
  {
   "cell_type": "code",
   "execution_count": 64,
   "metadata": {},
   "outputs": [
    {
     "ename": "SyntaxError",
     "evalue": "invalid syntax (Temp/ipykernel_15108/3228745366.py, line 1)",
     "output_type": "error",
     "traceback": [
      "\u001b[1;36m  File \u001b[1;32m\"C:\\Users\\hiyon\\AppData\\Local\\Temp/ipykernel_15108/3228745366.py\"\u001b[1;36m, line \u001b[1;32m1\u001b[0m\n\u001b[1;33m    https://towardsdatascience.com/topic-modelling-in-python-with-nltk-and-gensim-4ef03213cd21\u001b[0m\n\u001b[1;37m           ^\u001b[0m\n\u001b[1;31mSyntaxError\u001b[0m\u001b[1;31m:\u001b[0m invalid syntax\n"
     ]
    }
   ],
   "source": [
    "https://towardsdatascience.com/topic-modelling-in-python-with-nltk-and-gensim-4ef03213cd21"
   ]
  },
  {
   "cell_type": "markdown",
   "metadata": {},
   "source": [
    "<font size=4 color=red>Before Writing our first line of code</font><br>\n",
    "`go to the page` <br>\n",
    "`press control + U to view overall html (or json etc) file structure`<br>\n",
    "`back to the page, find out which part of the page we want to scrape`<br>\n",
    "`right click and choose inspect`<br>\n",
    "`you may need to go back and forth multiple times to confirm/double check`<br>"
   ]
  },
  {
   "cell_type": "code",
   "execution_count": null,
   "metadata": {},
   "outputs": [],
   "source": []
  },
  {
   "cell_type": "markdown",
   "metadata": {},
   "source": [
    "## Let's write a function for it"
   ]
  },
  {
   "cell_type": "markdown",
   "metadata": {},
   "source": [
    "### get the word list"
   ]
  },
  {
   "cell_type": "code",
   "execution_count": 5,
   "metadata": {},
   "outputs": [],
   "source": [
    "def scrape_sat_wordlist(url = None, save_file_name = None):\n",
    "    \"\"\"\n",
    "        this function scrape sat word list from website. it may apply to any word url from\n",
    "            https://satvocabulary.us/\n",
    "        input: url --- specific web page\n",
    "               save_file_name --- file name to save. \n",
    "        output: saved file to local drive\n",
    "    \"\"\"\n",
    "    \n",
    "    if not url:\n",
    "        url = \"https://satvocabulary.us/INDEX.ASP?CATEGORY=6000LIST\"\n",
    "    if not save_file_name:\n",
    "        save_file_name = Path(os.getcwd(), \"sat_6000.csv\") \n",
    "        \n",
    "    # step 1: download\n",
    "    response = requests.get(url) \n",
    "    if response.status_code != 200:\n",
    "        raise Exception(\"Downloading Not Succeed\")\n",
    "        \n",
    "    # step 2: soup it \n",
    "    soup = BeautifulSoup(response.content, \"html.parser\") ## response.content is in binary. response.text is in unicode \n",
    "    # the soup prepares and organizes the reponse content for parsing.\n",
    "    # it is like a librarian purchas 1 million books and use his/her way to make it A book Library\n",
    "    \n",
    "    #step 3: parsing. select/pick the content we need\n",
    "    tables = soup.find_all(\"table\", class_='WORDLIST')\n",
    "    # we need the first one, if there are more. \n",
    "    \n",
    "    # start to scraping\n",
    "    list_of_words = []\n",
    "    # Collecting Ddata\n",
    "    for row in tables[0].find_all('tr'):  \n",
    "        # some table has tbody\n",
    "        # Find all data for each column\n",
    "        columns = row.find_all(\"td\") \n",
    "        \n",
    "        if(columns != []):\n",
    "            Seq = columns[0].text.strip() \n",
    "            WORD = columns[1].text.strip()  \n",
    "            DEFINITION = columns[2].text.strip() \n",
    "            GROUPING = columns[3].text.strip() \n",
    "            list_of_words.append([Seq, WORD, DEFINITION, GROUPING]) \n",
    "    \n",
    "    # after finishing scraping, store this to a more readable table like format. \n",
    "    # use first row as column names\n",
    "    df_sat_list = pd.DataFrame(list_of_words[1:], columns = list_of_words[0])\n",
    "    \n",
    "    # now: stored into a local file \n",
    "    df_sat_list.to_csv(save_file_name, index = False)\n",
    "    \n",
    "    return save_file_name "
   ]
  },
  {
   "cell_type": "code",
   "execution_count": 6,
   "metadata": {},
   "outputs": [],
   "source": [
    "save_file_name = scrape_sat_wordlist()"
   ]
  },
  {
   "cell_type": "markdown",
   "metadata": {},
   "source": [
    "### introduce nltk\n",
    "* NLTK is a leading platform for building Python programs to work with human language data. It provides easy-to-use interfaces to over 50 corpora and lexical resources such as WordNet, along with a suite of text processing libraries for classification, tokenization, stemming, tagging, parsing, and semantic reasoning, wrappers for industrial-strength NLP libraries, and an active discussion forum\n",
    "\n",
    "* https://www.nltk.org/"
   ]
  },
  {
   "cell_type": "markdown",
   "metadata": {},
   "source": [
    "* what we will nltk for?\n",
    "* use its wordnet (english) to find synonym, antonym and word definitions"
   ]
  },
  {
   "cell_type": "code",
   "execution_count": 8,
   "metadata": {},
   "outputs": [],
   "source": [
    "save_file_name = 'c:/SP/Teaching/CrossLessons/sat_6000.csv'"
   ]
  },
  {
   "cell_type": "code",
   "execution_count": 26,
   "metadata": {},
   "outputs": [],
   "source": [
    "def get_wn_tag(tag):\n",
    "    \"\"\"\n",
    "        to use nltk, we need play by their rules. NLTK use ADJ, ADV, NOUN, VERB etc. \n",
    "        input: tag is the Grouping in the sat word list\n",
    "        output: the tagging that required by NLTK \n",
    "        if the not tag specified, we return blank\n",
    "    \"\"\" \n",
    "    tag = tag.lower()\n",
    "    \n",
    "    if tag in ['adjective', 'adj']:\n",
    "        return wn.ADJ\n",
    "    elif tag in ['adverb', \"adv\"]:\n",
    "        return wn.ADV\n",
    "    elif tag in ['noun']:\n",
    "        return wn.NOUN\n",
    "    elif tag in ['verb']:\n",
    "        return wn.VERB \n",
    "    else:\n",
    "        return \"\"\n",
    "\n",
    "def get_anto_syno_definition(sequence, token,defintion, grouping):  \n",
    "    \"\"\"\n",
    "        input: token，one of the word in SAT 6000\n",
    "        output: synonym, antonym and sample sentences, if with_example_sentence set to True \n",
    "        *args, **kwargs: more to elaborate\n",
    "    \"\"\"\n",
    "    # get the the tag used in nltk\n",
    "    wn_tag = get_wn_tag(grouping) \n",
    "    \n",
    "    # result list. in format of [sat_sequence, token, main_definition, seq, definition, sample sentences, synonyms, antonyms]\n",
    "    result = []\n",
    "    \n",
    "    synsets = wn.synsets(token,wn_tag)\n",
    "    \n",
    "    if not synsets: \n",
    "        return [[sequence, token, defintion, 1, \"\", \"\", \"\", \"\"]] # just return the token. other fields to be blank\n",
    "    \n",
    "    # enumerate is another concept we need to learn. \n",
    "    # it is a built-in function for \"reading one by one\", very fast way\n",
    "    for i, synset in enumerate(synsets):  \n",
    "        one_row = [sequence, token, defintion, i + 1]  \n",
    "        one_row.append(synset.definition()) \n",
    "        \n",
    "        #sentences. make first Character in capital\n",
    "        examples = synset.examples()\n",
    "        examples = [example[0].upper()+example[1:] for example in examples] \n",
    "        one_row.append('. '.join(examples))\n",
    "         \n",
    "        # handle synonyms and antonyms\n",
    "        synonyms_words, antonyms_words = [], []\n",
    "        \n",
    "        lemmas = synset.lemmas() \n",
    "        for word in lemmas: \n",
    "            synonyms_words.append(word.name()) \n",
    "            \n",
    "            antonyms = word.antonyms() \n",
    "           \n",
    "            for antonym in antonyms: \n",
    "                antonyms_words.append(antonym.name())\n",
    "                \n",
    "        one_row.append('. '.join(synonyms_words))\n",
    "        one_row.append('. '.join(antonyms_words))\n",
    "       \n",
    "        result.append(one_row)\n",
    "        \n",
    "    return result"
   ]
  },
  {
   "cell_type": "code",
   "execution_count": 29,
   "metadata": {},
   "outputs": [],
   "source": [
    "def enrich_sat_wordlist(sat_word_list_file = None, enriched_output_file = None):\n",
    "    \"\"\"\n",
    "        this function read the word list. use nltk to find each word's antonyms, synonyms and definition\n",
    "        input: sat_word_list_file, output_file, *args, **kwargs\n",
    "            sat_word_list_file: generated from previous lesson\n",
    "            outputfile: if None, then save to current wd\n",
    "        output: \n",
    "            return the result file name outputfile if success. \n",
    "            exception: raise\n",
    "    \"\"\"\n",
    "    if not sat_word_list_file:\n",
    "        sat_word_list_file =  Path(os.getcwd(), \"sat_6000.csv\")  \n",
    "    \n",
    "    if not os.path.exists(sat_word_list_file):\n",
    "        raise Exception(\"sat word file doesn't exist\")\n",
    "    \n",
    "    if not enriched_output_file:\n",
    "        enriched_output_file = Path(os.getcwd(), \"EnrichedSatWordList.csv\")\n",
    "    \n",
    "    word_list = pd.read_csv(sat_word_list_file)\n",
    "    \n",
    "    #looks like the first column is \"unamed:0\". change to Seq\n",
    "    word_list.columns =[\"Sequence\", \"WORD\", \"DEFINITION\", \"GROUPING\"]\n",
    "    \n",
    "    # iterate, aka, \"read through one by one\", through the word list.  \n",
    "    # remember, go through the list. e.g., we find nan values in GROUPING columns. \n",
    "    # handle that will \"\"\n",
    "    word_list[\"GROUPING\"] = word_list[\"GROUPING\"].fillna(\"\") \n",
    "    \n",
    "    \n",
    "    #now iterate all words: \n",
    "    enriched_list = []\n",
    "    for row in word_list.itertuples():\n",
    "        sequence, token, defintion, grouping = row[1], row[2], row[3], row[4]  \n",
    "        \n",
    "        # let's build a separate function to handle \n",
    "        enriched = get_anto_syno_definition(sequence = sequence,\\\n",
    "            token = token, defintion = defintion, grouping = grouping )\n",
    "        \n",
    "        enriched_list.extend(enriched)\n",
    "         \n",
    "    df_enriched = pd.DataFrame(enriched_list, columns = \\\n",
    "        [\"SAT_Sequence\", \"Word\", \"Primary Definition\", \"seq\",\"additional_definition\",\"sample sentences\",\"synonyms\",\"antonyms\"])\n",
    "       \n",
    "    df_enriched.to_csv(enriched_output_file, index = False) \n",
    "    \n",
    "    return enriched_output_file\n",
    "\n"
   ]
  },
  {
   "cell_type": "code",
   "execution_count": null,
   "metadata": {},
   "outputs": [],
   "source": [
    " "
   ]
  },
  {
   "cell_type": "markdown",
   "metadata": {},
   "source": [
    "# To continue the following lessons:\n",
    "* generate our own flask card\n"
   ]
  },
  {
   "cell_type": "code",
   "execution_count": null,
   "metadata": {},
   "outputs": [],
   "source": [
    " "
   ]
  },
  {
   "cell_type": "code",
   "execution_count": null,
   "metadata": {},
   "outputs": [],
   "source": []
  }
 ],
 "metadata": {
  "kernelspec": {
   "display_name": "p39tf",
   "language": "python",
   "name": "p39tf"
  },
  "language_info": {
   "codemirror_mode": {
    "name": "ipython",
    "version": 3
   },
   "file_extension": ".py",
   "mimetype": "text/x-python",
   "name": "python",
   "nbconvert_exporter": "python",
   "pygments_lexer": "ipython3",
   "version": "3.7.10"
  }
 },
 "nbformat": 4,
 "nbformat_minor": 4
}
