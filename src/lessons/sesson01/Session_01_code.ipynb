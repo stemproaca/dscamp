{
 "cells": [
  {
   "cell_type": "markdown",
   "metadata": {},
   "source": [
    "# Lib"
   ]
  },
  {
   "cell_type": "code",
   "execution_count": 2,
   "metadata": {},
   "outputs": [],
   "source": [
    "import os \n",
    "import re \n",
    "import requests \n",
    "from bs4 import BeautifulSoup  \n",
    "import pandas as pd \n",
    "from pathlib import Path"
   ]
  },
  {
   "cell_type": "markdown",
   "metadata": {},
   "source": [
    "# Start: how to use jupyter lab"
   ]
  },
  {
   "cell_type": "markdown",
   "metadata": {},
   "source": [
    "Open <a href=\"http://127.0.0.1:8888/lab/tree/SP/Teaching/DSCamp/Session_01_Prepare.ipynb\">Get Familiar with Jupyter</a> To Practice"
   ]
  },
  {
   "cell_type": "markdown",
   "metadata": {},
   "source": [
    "# Part A: scraping word list"
   ]
  },
  {
   "cell_type": "code",
   "execution_count": 3,
   "metadata": {},
   "outputs": [],
   "source": [
    "url = \"https://satvocabulary.us/INDEX.ASP?CATEGORY=6000LIST\""
   ]
  },
  {
   "cell_type": "code",
   "execution_count": 4,
   "metadata": {},
   "outputs": [],
   "source": [
    "response = requests.get(url) "
   ]
  },
  {
   "cell_type": "code",
   "execution_count": 5,
   "metadata": {},
   "outputs": [],
   "source": [
    "soup = BeautifulSoup(response.content, \"html.parser\") ## response.content is in binary. response.text is in unicode \n",
    "## will need to view the page cource to view sructure. e.g, acrl + U"
   ]
  },
  {
   "cell_type": "code",
   "execution_count": 6,
   "metadata": {},
   "outputs": [],
   "source": [
    "tables = soup.find_all(\"table\") "
   ]
  },
  {
   "cell_type": "code",
   "execution_count": 7,
   "metadata": {},
   "outputs": [
    {
     "name": "stdout",
     "output_type": "stream",
     "text": [
      "None\n",
      "['WORDLIST']\n"
     ]
    }
   ],
   "source": [
    "for table in soup.find_all('table'): \n",
    "    print(table.get('class'))\n",
    "    # Ctrl + U to exame the page. or go to menus"
   ]
  },
  {
   "cell_type": "code",
   "execution_count": 8,
   "metadata": {},
   "outputs": [],
   "source": [
    "table = soup.find('table', class_='WORDLIST') \n",
    "\n",
    "# Defining of the dataframe\n",
    "\n",
    "list_of_words = []\n",
    "# Collecting Ddata\n",
    "for row in table.find_all('tr'):  \n",
    "    # some table has tbody\n",
    "    # Find all data for each column\n",
    "    columns = row.find_all(\"td\")\n",
    " \n",
    "    if(columns != []):\n",
    "        Seq = columns[0].text.strip()\n",
    "       \n",
    "        WORD = columns[1].text.strip()\n",
    "     \n",
    "        DEFINITION = columns[2].text.strip() \n",
    "        GROUPING = columns[3].text.strip()\n",
    "        \n",
    "        list_of_words.append([Seq, WORD, DEFINITION, GROUPING]) \n",
    "df = pd.DataFrame(data = list_of_words[1:],  columns=['Seq', 'WORD', 'DEFINITION', 'GROUPING' ])"
   ]
  },
  {
   "cell_type": "markdown",
   "metadata": {},
   "source": [
    "## Method one"
   ]
  },
  {
   "cell_type": "code",
   "execution_count": 9,
   "metadata": {},
   "outputs": [],
   "source": [
    "table = soup.find('table', class_='WORDLIST') \n",
    "\n",
    "# Defining of the dataframe \n",
    "list_of_words = []\n",
    "# Collecting Ddata\n",
    "for row in table.find_all('tr'):  \n",
    "    # some table has tbody\n",
    "    # Find all data for each column\n",
    "    columns = row.find_all(\"td\")\n",
    " \n",
    "    if(columns != []):\n",
    "        Seq = columns[0].text.strip()\n",
    "       \n",
    "        WORD = columns[1].text.strip()\n",
    "     \n",
    "        DEFINITION = columns[2].text.strip() \n",
    "        GROUPING = columns[3].text.strip()\n",
    "        \n",
    "        list_of_words.append([Seq, WORD, DEFINITION, GROUPING]) \n",
    "df = pd.DataFrame(data = list_of_words[1:],  columns=['Seq', 'WORD', 'DEFINITION', 'GROUPING' ])"
   ]
  },
  {
   "cell_type": "markdown",
   "metadata": {},
   "source": [
    "## Method two"
   ]
  },
  {
   "cell_type": "code",
   "execution_count": null,
   "metadata": {},
   "outputs": [],
   "source": [
    "table = soup.find('table', class_='WORDLIST')  \n",
    "# Defining of the dataframe\n",
    "df = pd.DataFrame(columns=['Seq', 'WORD', 'DEFINITION', 'GROUPING' ])\n",
    "\n",
    "# Collecting Ddata\n",
    "for row in table.find_all('tr'):  \n",
    "    # some table has tbody\n",
    "    # Find all data for each column\n",
    "    columns = row.find_all(\"td\")\n",
    " \n",
    "    if(columns != []):\n",
    "        Seq = columns[0].text.strip()\n",
    "       \n",
    "        WORD = columns[1].text.strip()\n",
    "     \n",
    "        DEFINITION = columns[2].text.strip() \n",
    "        GROUPING = columns[3].text.strip()\n",
    "\n",
    "        df = df.append({'Seq': Seq,  'WORD': WORD, 'DEFINITION': DEFINITION, 'GROUPING': GROUPING}, ignore_index=True) \n",
    "\n",
    "df = df[df[\"Seq\"] != \"\"]"
   ]
  },
  {
   "cell_type": "code",
   "execution_count": 13,
   "metadata": {},
   "outputs": [
    {
     "data": {
      "text/html": [
       "<div>\n",
       "<style scoped>\n",
       "    .dataframe tbody tr th:only-of-type {\n",
       "        vertical-align: middle;\n",
       "    }\n",
       "\n",
       "    .dataframe tbody tr th {\n",
       "        vertical-align: top;\n",
       "    }\n",
       "\n",
       "    .dataframe thead th {\n",
       "        text-align: right;\n",
       "    }\n",
       "</style>\n",
       "<table border=\"1\" class=\"dataframe\">\n",
       "  <thead>\n",
       "    <tr style=\"text-align: right;\">\n",
       "      <th></th>\n",
       "      <th>Seq</th>\n",
       "      <th>WORD</th>\n",
       "      <th>DEFINITION</th>\n",
       "      <th>GROUPING</th>\n",
       "    </tr>\n",
       "  </thead>\n",
       "  <tbody>\n",
       "    <tr>\n",
       "      <th>1</th>\n",
       "      <td>1</td>\n",
       "      <td>abash</td>\n",
       "      <td>to make ashamed</td>\n",
       "      <td>verb</td>\n",
       "    </tr>\n",
       "    <tr>\n",
       "      <th>2</th>\n",
       "      <td>2</td>\n",
       "      <td>abate</td>\n",
       "      <td>to put an end to</td>\n",
       "      <td>verb</td>\n",
       "    </tr>\n",
       "  </tbody>\n",
       "</table>\n",
       "</div>"
      ],
      "text/plain": [
       "  Seq   WORD        DEFINITION GROUPING\n",
       "1   1  abash   to make ashamed     verb\n",
       "2   2  abate  to put an end to     verb"
      ]
     },
     "execution_count": 13,
     "metadata": {},
     "output_type": "execute_result"
    }
   ],
   "source": [
    "df.head(2)"
   ]
  },
  {
   "cell_type": "markdown",
   "metadata": {},
   "source": [
    "## output to a csv file"
   ]
  },
  {
   "cell_type": "code",
   "execution_count": 57,
   "metadata": {},
   "outputs": [],
   "source": [
    "output_file_foler = os.getcwd() "
   ]
  },
  {
   "cell_type": "code",
   "execution_count": 63,
   "metadata": {},
   "outputs": [],
   "source": [
    "file_name = \"Session_01_SAT_Vocab.csv\" "
   ]
  },
  {
   "cell_type": "code",
   "execution_count": 64,
   "metadata": {},
   "outputs": [],
   "source": [
    "output_file = Path(output_file_foler, file_name)\n",
    " "
   ]
  },
  {
   "cell_type": "code",
   "execution_count": 65,
   "metadata": {},
   "outputs": [],
   "source": [
    "df.to_csv(output_file, index = False)"
   ]
  },
  {
   "cell_type": "markdown",
   "metadata": {},
   "source": [
    "## load it back"
   ]
  },
  {
   "cell_type": "code",
   "execution_count": 66,
   "metadata": {},
   "outputs": [],
   "source": [
    "df = pd.read_csv(output_file)"
   ]
  },
  {
   "cell_type": "code",
   "execution_count": 14,
   "metadata": {},
   "outputs": [
    {
     "data": {
      "text/html": [
       "<div>\n",
       "<style scoped>\n",
       "    .dataframe tbody tr th:only-of-type {\n",
       "        vertical-align: middle;\n",
       "    }\n",
       "\n",
       "    .dataframe tbody tr th {\n",
       "        vertical-align: top;\n",
       "    }\n",
       "\n",
       "    .dataframe thead th {\n",
       "        text-align: right;\n",
       "    }\n",
       "</style>\n",
       "<table border=\"1\" class=\"dataframe\">\n",
       "  <thead>\n",
       "    <tr style=\"text-align: right;\">\n",
       "      <th></th>\n",
       "      <th>Seq</th>\n",
       "      <th>WORD</th>\n",
       "      <th>DEFINITION</th>\n",
       "      <th>GROUPING</th>\n",
       "    </tr>\n",
       "  </thead>\n",
       "  <tbody>\n",
       "    <tr>\n",
       "      <th>1</th>\n",
       "      <td>1</td>\n",
       "      <td>abash</td>\n",
       "      <td>to make ashamed</td>\n",
       "      <td>verb</td>\n",
       "    </tr>\n",
       "    <tr>\n",
       "      <th>2</th>\n",
       "      <td>2</td>\n",
       "      <td>abate</td>\n",
       "      <td>to put an end to</td>\n",
       "      <td>verb</td>\n",
       "    </tr>\n",
       "  </tbody>\n",
       "</table>\n",
       "</div>"
      ],
      "text/plain": [
       "  Seq   WORD        DEFINITION GROUPING\n",
       "1   1  abash   to make ashamed     verb\n",
       "2   2  abate  to put an end to     verb"
      ]
     },
     "execution_count": 14,
     "metadata": {},
     "output_type": "execute_result"
    }
   ],
   "source": [
    "df.head(2)"
   ]
  },
  {
   "cell_type": "markdown",
   "metadata": {},
   "source": [
    "## what's next?\n",
    "* how about synonyms, example sentences? how about antonyms?\n",
    "* come next\n",
    "* or being your challenge back homework"
   ]
  },
  {
   "cell_type": "code",
   "execution_count": null,
   "metadata": {},
   "outputs": [],
   "source": []
  },
  {
   "cell_type": "markdown",
   "metadata": {},
   "source": [
    "# Part B. Parse Ranking\n",
    "* You can choose this as you \"Challenge\" homework"
   ]
  },
  {
   "cell_type": "code",
   "execution_count": null,
   "metadata": {},
   "outputs": [],
   "source": [
    "url = 'http://colleges.usnews.rankingsandreviews.com/best-colleges/rankings/national-universities/data'\n",
    "r = requests.get(url)"
   ]
  },
  {
   "cell_type": "code",
   "execution_count": null,
   "metadata": {},
   "outputs": [],
   "source": []
  },
  {
   "cell_type": "code",
   "execution_count": null,
   "metadata": {},
   "outputs": [],
   "source": []
  },
  {
   "cell_type": "markdown",
   "metadata": {},
   "source": [
    "# Part C: python fun"
   ]
  },
  {
   "cell_type": "markdown",
   "metadata": {},
   "source": [
    "* question: Explain how do you calculate: \n",
    "$ 1 + \\frac{1}{2} + \\frac{1}{4} + \\frac{1}{8} + ... + \\frac{1}{128} $\n",
    "* and What if: \n",
    "$ 1 + \\frac{1}{2} + \\frac{1}{4} + \\frac{1}{8} + ... + \\frac{1}{4294967296} $ "
   ]
  },
  {
   "cell_type": "markdown",
   "metadata": {},
   "source": [
    "* there are many ways:"
   ]
  },
  {
   "cell_type": "markdown",
   "metadata": {},
   "source": [
    "## one line way:"
   ]
  },
  {
   "cell_type": "code",
   "execution_count": null,
   "metadata": {},
   "outputs": [],
   "source": [
    "print(sum([1/np.power(2.,i) for i in range(1 + int(np.log2(128)))]))\n",
    "print(sum([1/np.power(2.,i) for i in range(1 + int(np.log2(4294967296)))]))\n",
    "\n",
    "print(sum([1/np.float_power(2.,i) for i in range(1 + int(np.log2(4294967296)))]))\n"
   ]
  },
  {
   "cell_type": "markdown",
   "metadata": {},
   "source": [
    "## method way "
   ]
  },
  {
   "cell_type": "code",
   "execution_count": 21,
   "metadata": {},
   "outputs": [],
   "source": [
    "def sum_up(x):\n",
    "    \"\"\"\n",
    "        x is a list [1, 1/2....1/128]\n",
    "    \"\"\"\n",
    "    # one line: \n",
    "    #return sum(x)\n",
    "\n",
    "    #or: \n",
    "    result = 0 \n",
    "    for item in x: \n",
    "        result += x\n",
    "    \n",
    "    return result  "
   ]
  },
  {
   "cell_type": "code",
   "execution_count": 55,
   "metadata": {},
   "outputs": [],
   "source": [
    "def sum_up(n, base = 2):\n",
    "    \"\"\"\n",
    "        n is the denominator of last number\n",
    "        lots of corner cases are not considered\n",
    "        np: max is power(2, 1023)\n",
    "    \"\"\"\n",
    "    start,   result = 1, 1 \n",
    "    while start <= n:   \n",
    "        result += 1/start\n",
    "        start *= base    \n",
    "    return result  "
   ]
  },
  {
   "cell_type": "markdown",
   "metadata": {},
   "source": [
    "# Sum-up: \n",
    "* python list\n",
    "* number, over float \n",
    "* function. \n",
    "* python library to scrape website content"
   ]
  },
  {
   "cell_type": "code",
   "execution_count": null,
   "metadata": {},
   "outputs": [],
   "source": [
    " "
   ]
  },
  {
   "cell_type": "code",
   "execution_count": null,
   "metadata": {},
   "outputs": [],
   "source": []
  }
 ],
 "metadata": {
  "kernelspec": {
   "display_name": "p39tf",
   "language": "python",
   "name": "p39tf"
  },
  "language_info": {
   "codemirror_mode": {
    "name": "ipython",
    "version": 3
   },
   "file_extension": ".py",
   "mimetype": "text/x-python",
   "name": "python",
   "nbconvert_exporter": "python",
   "pygments_lexer": "ipython3",
   "version": "3.7.10"
  },
  "vscode": {
   "interpreter": {
    "hash": "226ff6b8e5c2c89a2753d55cf07ae67b3df5c927604797766a717c8e82516c5f"
   }
  }
 },
 "nbformat": 4,
 "nbformat_minor": 4
}
